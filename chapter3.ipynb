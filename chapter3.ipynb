{
 "cells": [
  {
   "cell_type": "markdown",
   "metadata": {},
   "source": [
    "## PDF Query Using Langchain"
   ]
  },
  {
   "cell_type": "code",
   "execution_count": 1,
   "metadata": {},
   "outputs": [],
   "source": [
    "from PyPDF2 import PdfReader\n",
    "from langchain.embeddings.openai import OpenAIEmbeddings\n",
    "from langchain.text_splitter import CharacterTextSplitter\n",
    "from langchain.vectorstores import FAISS"
   ]
  },
  {
   "cell_type": "code",
   "execution_count": 2,
   "metadata": {},
   "outputs": [],
   "source": [
    "import os\n",
    "from constants import openai_key\n",
    "\n",
    "os.environ['OPENAI_API_KEY']= openai_key\n"
   ]
  },
  {
   "cell_type": "code",
   "execution_count": 3,
   "metadata": {},
   "outputs": [],
   "source": [
    "pdfreader = PdfReader('dataset/budget_speech.pdf')"
   ]
  },
  {
   "cell_type": "code",
   "execution_count": 4,
   "metadata": {},
   "outputs": [],
   "source": [
    "from typing_extensions import Concatenate\n",
    "\n",
    "# read text from pdf\n",
    "raw_text = ''\n",
    "for i, page in enumerate(pdfreader.pages):\n",
    "    content = page.extract_text()   #extract each page text\n",
    "\n",
    "    if content:\n",
    "        raw_text += content   #move complete text of all pages to raw_text"
   ]
  },
  {
   "cell_type": "code",
   "execution_count": 5,
   "metadata": {},
   "outputs": [
    {
     "data": {
      "text/plain": [
       "\"GOVERNMENT OF INDIA\\nINTERIM BUDGET 2024-2025\\nSPEECH\\nOF\\nNIRMALA SITHARAMAN\\nMINISTER OF FINANCE\\nFebruary 1,  2024 \\nCONTENTS  \\n \\nPART – A \\n Page No.  \\nIntroduction  1 \\nInclusive Development and Growth  2 \\nSocial Justice   3  \\nExemplary  Track Record of Governance,  \\nDevelopment and Performance (GDP)  7 \\nEconomic Management  8 \\nGlobal Context  9 \\nVision for ‘Viksit Bharat’  10 \\nStrategy for  ‘Amrit Kaal’  11 \\nInfrastructure Development  17 \\nAmrit Kaal as Kartavya Kaal  22 \\nRevised Estimates 2023 -24 23 \\nBudget Estimates 2024 -25 23 \\nPART – B \\nDirect taxes  25 \\nIndirect Taxes   26 \\nEconomy – Then and Now  28 \\n  \\n  1 \\n Interim Budget 2024 -2025  \\nSpeech of  \\nNirmala Sitharaman  \\nMinister of Finance  \\nFebruary 1, 2024  \\nHon’ble Speaker,  \\n I present the Interim Budget for 2024 -25.  \\nIntroduction  \\n1. The Indian  economy  has witnessed profound positive \\ntransformation in the last ten years. The people of India are \\nlooking ahead to the future with hope and optimism.  \\n2. With the blessings of the people, when our Government \\nunder the visionary and dynamic leadership of Hon’ble Prime \\nMinister Shri Narendra Modi assumed office in 2014, the country \\nwas facing enormous challenges. With ‘Sabka Saath, Sabka \\nVikas’  as its ‘mantra’ , the Government overcame those \\nchallenges in right earnest. Structural reforms were undertaken. \\nPro-people programmes were formulated and implemented \\npromptly. Conditions were cr eated for more opportunities for \\nemployment and entrepreneurship. The economy got a new \\nvigour. The fruits of development started reaching the people at \\nscale. The country got a new sense of purpose and hope. \\nNaturally, the people blessed the Government wi th a bigger \\nmandate.  2 \\n 3. In the second term, our Government under the leadership \\nof Hon’ble Prime Minister doubled down on its responsibilities to \\nbuild a prosperous country with comprehensive development of \\nall people and all regions. Our Government strengthened its \\n‘mantra’  to ‘Sabka Saath, Sabka Vikas, and Sabka Vishwas’. Our \\ndevelopment philosophy covered all elements of inclusivity, \\nnamely,  \\n\\uf0b7 social inclusivity through coverage of all strata of the \\nsociety, and  \\n\\uf0b7 geographical  inclusivity through development of all \\nregions of the country.   \\n4. With the ‘whole of nation’ approach of ‘Sabka Prayas’, t he \\ncountry overcame the challenge of a once -in-a-century \\npandemic, took long strides towards ‘Atmanirbhar Bharat’, \\ncommitted to ‘Panch  Pran’ , and laid solid foundations for the  \\n‘Amrit Kaal’. As a result, our young country has high aspiration s, \\npride in its present, and hope and confidence for a bright future. \\nWe expect that our Government , based on  its stupendous work , \\nwill be blessed ag ain by the people with a resounding mandate.  \\nInclusive Development and Growth  \\n5. Our humane and inclusive approach to development is a \\nmarked and deliberate departure from the earlier approach of \\n‘provisioning up -to-village level’. Development programmes , in \\nthe last ten years, have targeted each and every household and \\nindividual, through ‘housing for all’, ‘har ghar jal’ , electricity for 3 \\n all, cooking gas for all, bank accounts and financial services for \\nall, in record time.  \\n6. The worries about food have been eliminated through free \\nration for 80 crore people. Minimum support prices for the \\nproduce of ‘Annadata’    are periodically increased appropriately. \\nThese and the provision of basic necessities have enhanced real \\nincome in the rural areas. Their econo mic needs could be \\naddressed, thus spurring growth and generating jobs.   \\nSocial Justice   \\n7. Our Government  is working with an approach to \\ndevelopment that is  all-round, all -pervasive and all -inclusive \\n(सर्वांगीण , सर्वस्पर्शी  और सर्वसमवर्ेर्शी ). It covers all castes and \\npeople at all levels. We are working to make India a ‘Viksit \\nBharat’ by 2047. For achieving that goal, we need to improve \\npeople’s capability and empower them.  \\n8. Previously, social justice was mostly a political slogan. For \\nour Gov ernment, social justice is an effective and necessary \\ngovernance model. The saturation approach of covering all \\neligible people is the true and comprehensive achievement of \\nsocial justice. This is secularism in action, reduces corruption, \\nand prevents nepo tism (भवई-भतीजवर्वद ). There is transparency \\nand assurance that benefits are delivered to all eligible people.  \\nThe resources are distributed fairly . All, regardless of their social \\nstanding, get access to opportunities. We are addressing \\nsystemic inequaliti es that had plagued our society. We focus on 4 \\n outcomes and not on outlays so that the socio -economic \\ntransformation is achieved.   \\n9. As our Prime Minister firmly believes , we need to focus on \\nfour major castes. They are, ‘Garib’ (Poor) , ‘Mahilayen’ \\n(Women),  ‘Yuva’  (Youth) and   ‘Annadata’ (Farmer). Their needs, \\ntheir aspirations, and their welfare are our highest priority. The \\ncountry progresses, when they progress. All four require and \\nreceive government support in their quest to better their lives. \\nTheir empo werment and well -being will drive the country \\nforward.  \\nGarib Kalyan, Desh ka Kalyan  \\n10. We believe in empowering the poor. The earlier approach \\nof tackling poverty through entitlements had resulted in very \\nmodest outcomes. When the poor become empowered partners \\nin the development process, government’s power to assist them \\nalso increases mani fold. With the pursuit of ‘Sabka ka Saath’  in \\nthese 10 years , the Government has assisted 25 crore people to \\nget freedom from multi -dimensional poverty. Our Government’s \\nefforts are now getting synergized with energy and passion of \\nsuch empowered people. T his is truly elevating them from \\npoverty.   \\n11. ‘Direct Benefit Transfer’ of ` 34 lakh crore from the \\nGovernment using PM -Jan Dhan accounts has led to savings of  \\n` 2.7 lakh crore  for the Government . This has been realized 5 \\n through avoidance of leakages prevale nt earlier. The savings \\nhave helped in providing more funds for ‘Garib Kalyan’.  \\n12. PM-SVANidhi has provide d credit assistance to 78 lakh \\nstreet vendors.  From that total, 2.3 lakh have received credit for \\nthe third time.  \\n13. PM-JANMAN Yojana reaches out to the particularly \\nvulnerable tribal groups, who have remained outside  the realm \\nof development so far. PM -Vishwakarma Yojana provides end -to-\\nend support to artisans and craftspeople engaged in 18 trades. \\nThe schemes for empowerment of Divyangs and Transgender \\nperson s reflect firm resolve of our  Government to leave no one \\nbehind.  \\nWelfare of Annadata  \\n14. Farmers are our ‘Annadata’ . Every year, under PM -KISAN \\nSAMMAN Yojana, direct financial assistance is provided to  \\n11.8 crore farmers, including marginal and small farmers.  Crop \\ninsurance is given to  4 crore farmers under PM Fasal Bima \\nYojana. These, besides several other programmes, are assisting \\n‘Annadata’  in producing food for the country and the world.  \\n15. Electroni c National Agriculture Market has integrated  \\n1361 mandis, and is providing services to 1.8 crore farmers with \\ntrading volume of ` 3 lakh crore.  \\n16. The sector is poised for inclusive, balanced, higher growth \\nand productivity. These are facilitated from farme r-centric \\npolicies, income support, coverage of risks through price and 6 \\n insurance support, promotion of technologies and innovations \\nthrough start -ups.  \\nEmpowering  Amrit Peed hi, the Yuva  \\n17. Our prosperity depends on adequately equipping and \\nempowering the youth. The National Education Policy 2020 is \\nushering in transformational reforms. PM ScHools for Rising India \\n(PM SHRI) are delivering quality teaching, and nurturing holistic \\nand well -roun ded individuals.  \\n18. The Skill India Mission has trained 1.4 crore youth, \\nupskilled and reskilled 54 lakh youth, and established 3000 new \\nITIs. A large number of new institutions of higher learning, \\nnamely 7 IITs, 16 IIITs, 7 IIMs, 15 AIIMS and 390 universiti es have \\nbeen set up.   \\n19. PM Mudra Yojana has sanctioned 43 crore loans \\naggregating to ` 22.5 lakh crore for entrepreneurial aspirations \\nof our youth. Besides that, Fund of Funds, Start Up India, and \\nStart Up Credit Guarantee schemes are assisting our youth. They \\nare also becoming ‘rozgardata’.  \\n20. The country is proud of our youth scaling new heights in \\nsports. The highest ever medal tally in Asian Games and Asian \\nPara Games in 2023 reflects a high confidence level. Chess \\nprodigy and our Number -One ranked player  Praggnanandhaa put \\nup a stiff fight against the reigning World Champion Magnus \\nCarlsson in 2023. Today, India has over 80 chess grandmasters \\ncompared to little over 20 in 2010.  7 \\n Momentum for Nari Shakti  \\n21. The empowerment of women through entrepreneurship, \\nease of living, and dignity for them has gained momentum in \\nthese ten years.  \\n22. Thirty crore Mudra Yojana loans have been given to \\nwomen entrepreneurs. Female enrolment in higher education \\nhas gone up by twenty -eight per cent in ten years. In STEM \\ncourses, gir ls and women constitute forty -three per cent of \\nenrolment - one of the highest in the world. All these measures \\nare getting reflected in the increasing participation of women in \\nworkforce . \\n23. Making ‘Triple Talaq’ illegal, reservation of one -third seats \\nfor w omen in the Lok Sabha and State legislative assemblies, and \\ngiving over seventy per cent houses under PM Awas Yojana in \\nrural areas to women as sole or joint owners have enhanced \\ntheir dignity.  \\nExemplary  Track Record of Governance, Development and \\nPerformance (GDP)  \\n24. Besides delivering on high growth in terms of Gross \\nDomestic Product, the Government is equally focused on a more \\ncomprehensive ‘GDP’ , i.e ., ’Governance, Development and \\nPerformance’ .   \\n25. Our G overnment has provided transparent, accountable, \\npeople -centric and prompt trust -based administration with 8 \\n ‘citizen -first’ and ‘minimum government, maximum governance’ \\napproach.  \\n26. The impact of all -round development is discernible in all \\nsectors. There is mac ro-economic stability, including in the \\nexternal sector. Investments are robust. The economy is doing \\nwell.  \\n27. People are living better and earning better, with even \\ngreater aspirations for the future. Average real income of the \\npeople has increased by fifty  per cent. Inflation is moderate. \\nPeople are getting empowered, equipped and enabled to pursue \\ntheir aspirations. There is effective and timely delivery of \\nprogrammes and of large projects.  \\nEconomic Management  \\n28. The multipronged economic management over the  past \\nten years has complemented people -centric inclusive \\ndevelopment. Following are some of the major elements.   \\n(1) All forms of infrastructure , physical, digital or social, \\nare being built in record time.   \\n(2) All parts of the country are becoming active \\nparticipants in economic  growth.  \\n(3) Digital Public Infrastructure, a new ‘factor of \\nproduction ’ in the 21st century, is instrumental in \\nformalization of the economy.      9 \\n (4) Goods and Services Tax has enabled ‘One Nation, \\nOne Market, One Tax’ . Tax reforms have led to \\ndeepening  and widening of tax base.  \\n(5) Strengthening of the financial sector has helped in \\nmaking savings, credit and investments more \\nefficient.   \\n(6) GIFT IFSC and the unified regulatory authority, IFSCA \\nare creating a robust gateway for global capital and \\nfinancial services for the economy.  \\n(7) Proactive inflation management has helped keep  \\ninflation within  the policy band.   \\nGlobal Context  \\n29. Geopolitically , global affairs are becoming more complex \\nand challenging with wars and conflicts. Globalization is being \\nredefined with reshoring and friend -shoring, disruption and \\nfragmentation of supply chains, and competition for critical \\nminerals and technologies. A  new world order is emerging after \\nthe Covid pandemic.  \\n30. India assumed G20  Presidency during very difficult times \\nfor the world. The global economy was going through high \\ninflation, high interest rates, low growth, very high public debt, \\nlow trade growth, and climate challenges. The pandemic had led \\nto a crisis of food, fertiliz er, fuel and finances for the world, while \\nIndia successfully  navigated its way. The country showed the way 10 \\n forward and built consensus on solutions for those global \\nproblems.  \\n31. The recently announced India -Middle East -Europe \\nEconomic Corridor is a strategi c and economic game changer for \\nIndia and others. In the words of Hon’ble Prime Minister, the \\ncorridor “will become the basis of world trade for hundreds of \\nyears to come, and history will remember that this corridor was \\ninitiated on Indian soil” .   \\nVision  for ‘Viksit Bharat’  \\n32. Our vision for ‘Viksit Bharat’ is that of “Prosperous Bharat \\nin harmony with nature, with modern infrastructure, and \\nproviding opportunities for all citizens and all regions to reach \\ntheir potential”.  \\n33. With confidence arising from stron g and exemplary track -\\nrecord of performance and progress earning ‘Sabka Vishwas’ , the \\nnext five years will be years of unprecedented development, and \\ngolden moments to realize the dream of developed India  @ \\n2047. The trinity of demography, democracy and di versity \\nbacked by ‘Sabka Prayas’ has the potential to fulfill aspirations of \\nevery Indian.  \\n34. As Hon’ble Prime Minister in his Independence Day \\naddress to the nation mentioned, “There is no dearth of \\nopportunities; as many opportunities as we want. The count ry is \\ncapable of creating more opportunities. Sky's the limit” . \\n 11 \\n Strategy for ‘Amrit Kaal’  \\n35. Our Government will adopt  economic policies that foster \\nand sustain growth, facilitate inclusive and sustainable \\ndevelopment, improve productivity, create opportunities for all, \\nhelp them enhance their capabilities, and contribute to \\ngeneration of resources to power investments an d fulfil \\naspirations.   \\n36. Guided by the principle ‘Reform , Perform, and Transform’, \\nthe Government will take up next generation reforms, and build \\nconsensus with the states and stakeholders for effective \\nimplementation.   \\n37. It is an important policy priority for our Government to \\nensure timely and adequate finances, relevant technologies and \\nappropriate training for the Micro, Small and Medium \\nEnterprises (MSME) to grow and also compete globally. Orienting \\nthe regulatory envi ronment to facilitate their growth will be an \\nimportant element of this policy mix.  \\n38. Aligning with the ‘Panchamrit’  goals, our Government will \\nfacilitate sustaining high and more resource -efficient economic \\ngrowth. This will work towards energy  security in terms of \\navailability, accessibility and affordability.   \\n39. For me eting the investment needs our G overnment will \\nprepare the financial sector in terms of size, capacity, skills and \\nregulatory framework.  \\n 12 \\n Aspirational Districts Programme  \\n40. Our Government stands ready to assist the states in faster \\ndevelopment of aspirational districts  and blocks , including \\ngeneration of ample economic opportunities.  \\nDevelopment of the East   \\n41. Our G overnment will pay utmost attention to make the \\neastern region and its people  a powerful driver of India’s growth .  \\nPM Awas Yojana (Grameen)  \\n42. Despite the challenges due to COVID, implementation of \\nPM Awas Yojana (Grameen) continued  and we are close to \\nachieving the target of three  crore houses. Two  crore more \\nhouses wi ll be taken up in the next five years to meet the \\nrequirement arising from increase in the number of families.   \\nRooftop solarization and muft bijli  \\n43.   Through rooftop solarization, one crore households will \\nbe enabled to obtain up to 300 units free electri city every month. \\nThis scheme follows the resolve of Hon’ble Prime Minister on the \\nhistoric day of consecration of Ram Mandir in Ayodhya.  \\nFollowing benefits are expected.  \\na. Savings up to fifteen to eighteen thousand rupees \\nannually for households from free solar electricity and \\nselling the surplus to the distribution companies;  \\nb. Charging of electric vehicles;  13 \\n c. Entrepreneurship opportunities for a large number of \\nvendors for supply and installation;  \\nd. Employment opportunities for the youth with technical \\nskills i n manufacturing, installation and maintenance;  \\nHousing for middle class  \\n44. Our Government will launch a scheme to help deserving \\nsections of the middle class “living in rented houses, or slums, or \\nchawls and unauthorized colonies” to buy or build their own \\nhouses.   \\nMedical Colleges  \\n45. Several youth are ambitious to get qualified as doctors. \\nThey aim to serve our people through improved healthcare \\nservices. Our Government plans to set up more medical colleges \\nby utilizing the existing hospital infrastructure under various \\ndepartments. A committee for this purpose will be set -up to \\nexamine the issues and make relevant recommendations .  \\nCervical Cancer Vaccination  \\n46. Our Government will encourage vaccination for girls in age \\ngroup of 9 to 14 years for prevention of cervical cancer.     \\nMaterna l and child health care  \\n47. Various schemes for maternal and child care will be \\nbrought under one comprehensive programme for synergy in \\nimplementation. Upgradation of anganwadi centres under \\n“Saksham Anganwadi and Poshan 2.0” will be expedited for 14 \\n improved nu trition delivery, early childhood care and \\ndevelopment.    \\n48. The newly designed U -WIN platform for managing \\nimmunization and intensified efforts of Mission Indradhanush \\nwill be rolled out expeditiously throughout the country.  \\nAyushman Bharat  \\n49. Healthcare cove r under Ayushman Bharat scheme will be \\nextended to all ASHA workers, Anganwadi Workers and Helpers.  \\nAgriculture and food processing  \\n50. The efforts for value addition in agricultural sector and \\nboosting farmers’ income will be stepped up. Pradhan Mantri \\nKisan  Sampada Yojana has benefitted 38 lakh farmers and \\ngenerated 10 lakh employment. Pradhan Mantri Formalisation of \\nMicro Food Processing Enterprises Yojana has assisted 2.4 lakh \\nSHGs and sixty thousand individuals with credit linkages. Other \\nschemes are comp lementing the efforts for reducing post -\\nharvest losses, and improving productivity and incomes.  \\n51. For ensuring faster growth of the sector, our Government \\nwill further promote p rivate and public investment in  \\npost -harvest activities including aggregation, modern storage, \\nefficient supply chains, primary and secondary processing and \\nmarketing and branding.  \\n \\n 15 \\n Nano DAP  \\n52. After the successful adoption of Nano Urea, application of \\nNano DAP on various crops will be expanded in all agro -climatic \\nzones.   \\nAtmanirbhar  Oil Seeds Abhiyan  \\n53. Building on the initiative announced in 2022, a strategy \\nwill be formulated to achieve ‘atmanirbharta’  for oil seeds such \\nas mustard, groundnut, sesame, soybean, and sunflower. This \\nwill cover research for high -yielding varieties, widesp read \\nadoption of modern farming techniques, market linkages, \\nprocurement, value addition, and crop insurance.      \\nDairy Development  \\n54. A comprehensive programme for  supporting dairy farmers \\nwill be formulated. Efforts are already on to control foot and \\nmouth  disease. India is the world’s largest milk producer but \\nwith low productivity of milch -animals. The programme will be \\nbuilt on the success of existing schemes such Rashtriya Gokul \\nMission, National Livestock Mission, and Infrastructure \\nDevelopment Funds f or dairy processing and animal husbandry.   \\nMatsya Sampada  \\n55. It was our Government which set up a separate \\nDepartment for Fisheries realizing the importance of assisting \\nfishermen. This has resulted in doubling of both inland and \\naquaculture production. Seaf ood export since 2013 -14 has also 16 \\n doubled.  Implementation of Pradhan Mantri Matsya Sampada \\nYojana (PMMSY) will be stepped up to:  \\n(1) enhance aquaculture productivity from existing 3 to  \\n5 tons per hectare,  \\n(2) double exports to ` 1 lakh crore and  \\n(3) generate  55 lakh employment opportunities in near \\nfuture.  \\nFive integrated aquaparks will be setup.  \\nLakhpati Didi  \\n56. Eighty -three lakh SHGs  with nine crore women are \\ntransforming rural socio -economic landscape with \\nempowerment and self -reliance. Their success has as sisted \\nnearly one crore women to become Lakhpati Didi already. They \\nare an inspiration to others. Their achievements will be \\nrecognized through honouring them. Buoyed by the success, it \\nhas been decided to enhance the target for Lakhpati Didi from  \\n2 crore to 3 crore.  \\nTechnological Changes  \\n57. New age technologies  and data  are changing the lives of \\npeople and businesses. The y are also enabling new economic \\nopportunities and facilitating provision of high -quality services at \\naffordable prices for all, inc luding those at ‘bottom of the \\npyramid’. Opportunities for India at the global level are 17 \\n expanding. India is showing solutions through innovation and \\nentrepreneurship of its people.  \\nResearch and Innovation for catalyzing growth, employment \\nand development  \\n58. Prime Minister Shastri gave the slogan of “Jai Jawan Jai \\nKisan”. Prime Minister Vajpayee made that “Jai Jawan Jai Kisan \\nJai Vigyan”. Prime Minister Modi has furthered that to “Jai \\nJawan Jai Kisan Jai Vigyan and Jai Anusandhan” , as innovation is \\nthe founda tion of development.  \\n59. For our tech savvy youth, this will be a golden era.  \\nA corpus of rupees  one lakh crore will be established with  \\nfifty-year interest free loan . The corpus will provide long -term \\nfinancing or refinancing with long tenors and low or nil interest \\nrates. This will encourage the private sector  to scale up research \\nand innovation significantly in sunrise domains. We need to have \\nprogrammes that combin e the powers of our youth and \\ntechnology.  \\n60. A new scheme will be launched for strengthening  \\ndeep -tech technologies for defence purposes and expediting \\n‘atmanirbharta’ .    \\nInfrastructure Development  \\n61. Building on the massive tripling of the capital expenditure  \\noutlay in the past 4 years resulting in huge multiplier impact on \\neconomic growth and employment creation, the outlay for the \\nnext year is being increased by 11.1 per cent to eleven lakh, 18 \\n eleven thousand, one hundred and eleven crore rupees  \\n(` 11,11,111 crore). This would be 3.4 per cent of the GDP.  \\nRailways  \\n62. Three major economic railway corridor programmes will \\nbe implemented. These are : \\n(1) energy, mineral and cement corridors,  \\n(2) port connectivity corridors, and  \\n(3) high traffic density corridors.  \\nThe projects have been identified under the PM Gati Shakti for \\nenabling multi -modal connectivity. They will improve logistics \\nefficiency and reduce cost.  \\n63.   The resultant decongestion of the high -traffic corridors \\nwill also help in improving operations of passenger trains, \\nresulting in safety and higher travel speed for passengers. \\nTogether with dedicated freight corridors, these three economic \\ncorridor programmes will accelerate our GDP growth and reduce \\nlogistic costs.   \\n64. Forty thousand normal rail bogies will be converted to the \\nVande Bharat standards to enhance safety , convenience and \\ncomfort  of passengers.   \\nAviation Sector  \\n65. The aviation sector has been galvanized in the past  \\nten years. Number of airports have  doubled to 149. Roll out of \\nair connectivity to tier -two and tier -three cities under UDAN 19 \\n scheme has been widespread.  Five hundred and seventeen new \\nroutes are carrying 1.3 crore passengers. Indian carriers have  \\npro-actively plac ed orders for over 1000 n ew aircrafts. Expansion \\nof existing airports and development of new airports will \\ncontinue expeditiously.  \\nMetro and NaMo Bharat  \\n66. We have a fast -expanding middle class and rapid \\nurbanization is taking place.  Metro Rail and NaMo Bharat can be \\nthe catalyst f or the required urban transformation. Expansion of \\nthese systems will be supported in large cities focusing on \\ntransit -oriented development.  \\nGreen Energy  \\n67. Towards meeting our commitment for ‘net -zero’ by 2070, \\nthe following measures will be taken.  \\na. Viabilit y gap funding will be provided for harnessing \\noffshore wind energy potential for initial capacity of \\none giga -watt.  \\nb. Coal gasification and liquefaction capacity of 100 MT \\nwill be set up by 2030. This will also help in reducing \\nimports of natural gas, methanol, and ammonia.   \\nc. Phased mandatory blending of compressed biogas  \\n(CBG)  in compressed natural gas (CNG) for transport \\nand piped natural gas  (PNG)  for domestic purposes will \\nbe mandated.  20 \\n d. Financial  assistance will be provided for procurement \\nof biomass aggregation machinery to support \\ncollection . \\nElectric Vehicle Eco system  \\n68. Our Government will expand and strengthen the e -vehicle \\necosystem  by supporting manufacturing and charging \\ninfrastructure. Greater adoption of e -buses for public transport \\nnetworks will be encouraged through payment security \\nmechanism.  \\nBio-manufacturing and Bio -foundry  \\n69. For promotin g green growth, a new scheme of  \\nbio-manufacturing and bio -foundry will be launched. This will \\nprovide environment friendly alternatives such as biodegradable \\npolymers, bio -plastics, bio -pharmaceuticals and bio -agri-inputs.  \\nThis scheme will also help in transforming today’s consumptive \\nmanufacturing paradigm to the one based on regenerative \\nprinciples.  \\nBlue Economy 2.0  \\n70. For promoting climate resilient activities for blue economy \\n2.0, a scheme for restoration and adaptation measures, and \\ncoastal aquaculture and mariculture with integrated a nd  \\nmulti -sectoral approach will be launched.  \\n \\n 21 \\n Comprehensive development of tourist centres  \\n71. The success of organizing G20 meetings in sixty places \\npresented diversity of India to global audience. Our economic \\nstrength has made the country an attractive de stination for \\nbusiness and conference tourism. Our middle class also now \\naspires to travel and explore. Tourism, including spiritual \\ntourism, ha s tremendous opportunities for local \\nentrepreneurship . \\n72. States will be encouraged to take up comprehensive \\ndevelopment of iconic tourist centres, branding and marketing \\nthem at global scale. A framework for rating of the centres based \\non quality of facilities and services will be established. Long -term \\ninterest free loans will be provided to States for financin g such \\ndevelopment on matching basis.  \\n73. To address the emerging fervour for domestic tourism, \\nprojects for port connectivity, tourism infrastructure, and \\namenities will be taken up on our islands, including \\nLakshadweep. This will help in generating employmen t also.  \\nPromoting Investments  \\n74. The FDI inflow during 2014 -23 was USD 596 billion marking \\na golden era .  That is twice the inflow during 2005 -14.   \\nFor encouraging sustained foreign investment, we are \\nnegotiating bilateral investment treaties with our foreig n \\npartners, in the spirit of ‘first develop India’.  \\n 22 \\n Reforms in the States for ‘ Viksit Bharat’  \\n75. Many growth and development enabling reforms are \\nneeded in the states for realizing the vision of ‘Viksit Bharat’.  \\nA provision of seventy -five thousand crore rupees as fifty-year \\ninterest free loan is proposed this year to support those \\nmilestone -linked reforms by the State Governments.    \\nSocietal Changes  \\n76. The Government will form a high -powered committee for \\nan extensive consideration of the challenges arising from fast \\npopulation growth and demographic changes.  The committee \\nwill be mandated to make recommendations for addressing \\nthese challenges comprehensively in relation to the goal of \\n‘Viksit Bharat’.  \\nAmrit Kaal as Kartavya Kaal  \\n77. Our G overnment stands committed to strengthening and \\nexpanding the economy with high growth and to create \\nconditions for people to realize their aspirations.  Hon’ble Prime \\nMinister in his Independence Day address to the nation, in the \\n75th year of our Republic  said; we “commit ourselves to national \\ndevelopment, with new inspirations, new consciousness, new \\nresolutions, as the country opens up immense possibilities and \\nopportunities” . It is our ‘Kartavya Kaal’.  \\n78. Every challenge of the pre-2014  era was overcome \\nthrough our economic management and our governance. These \\nhave placed the country on a resolute path of sustained high 23 \\n growth.  This has been possible through our right policies, true \\nintentions, and appropriate decisions. In the full budget in July, \\nour Government will present a detailed roadmap for our pursuit \\nof ‘Viksit Bharat’ .  \\nRevised Estimates 2023 -24 \\n79. The Revised Estimate of the total receipts other than \\nborrowings is ` 27.56  lakh crore, of which the tax receipts are  \\n` 23.24  lakh crore. The Revised Estimate of the total expenditure \\nis ` 44.90  lakh crore.      \\n80. The revenue receipts at ` 30.03  lakh crore are expected to \\nbe higher than the Budget Estimate, reflecting strong growth \\nmomentum and formalization in the economy.  \\n81. The R evised Estimate of the fiscal deficit is 5.8 per cent of \\nGDP, improving on the Budget Estimate, notwithstanding \\nmoderation in the nominal growth estimates.        \\nBudget Estimates 2024 -25 \\n82. Coming to 2024 -25, the total receipts other than \\nborrowings and the total expenditure are estimated at ` 30.80  \\nand 47.66  lakh crore respectively. The tax receipts are estimated \\nat ` 26.02  lakh crore.     \\n83. The scheme of fifty-year interest free loan for capital \\nexpenditure to states will be continued this year with total out lay \\nof  ` 1.3 lakh crore.   24 \\n 84. We continue on the path of fiscal consolidation, as \\nannounced in my Budget Speech for 2021 -22, to reduce fiscal \\ndeficit below 4.5 per cent by 2025 -26. The fiscal deficit in  \\n2024 -25 is estimated to be 5.1 per cent of GDP, adhering to that \\npath.  \\n85.  The gross and net market borrowings through  dated \\nsecurities during 2024 -25 are estimated at ` 14.13  and  \\n11.75  lakh crore respectively. Both will be less than that in  \\n2023 -24. Now that the private investments ar e happening at \\nscale, the lower borrowings by the Central Government will \\nfacilitate larger availability of credit for the private sector.   \\nVote on Account  \\n86. I will be seeking ‘vote on account’ approval of the \\nParliament through the Appropriation Bill for a part of the \\nfinancial year  2024 -25.    \\nI will, now, move to Part B.  \\n  25 \\n Part B  \\nHon’ble Speaker Sir,  \\nDirect taxes  \\n87. Over the last ten years, the direct tax collections have \\nmore than trebled and the return filers swelled to 2.4 times.  \\nI would like to assure the taxpayers that their contributions have \\nbeen used wisely for the development of the country and \\nwelfare of its people. I appreciate the tax payers for their \\nsupport.  \\n88. The Government has reduced and rationalized tax rates. \\nUnder the new tax scheme, there  is now no tax liability for tax \\npayers with income up to ₹ 7 lakh, up from ₹ 2.2 lakh in the \\nfinancial year 2013 -14. The threshold for presumptive taxation \\nfor retail businesses was increased from ₹ 2 crore to ₹ 3 crore. \\nSimilarly, the threshold for professionals eligible for presumptive \\ntaxation was increased from ₹ 50 lakh to  ₹ 75 Lakh.  Also, \\ncorporate tax rate was decreased from 30 per cent to 22 per cent \\nfor existing domestic companies and to 15 per cent for certain \\nnew manufacturing companies.  \\n89. In the last five years, our focus has been to improve  \\ntax-payer services. The age -old jurisdiction -based assessment \\nsystem was transformed with the introduction of Faceless \\nAssessment and Appeal, thereby imparting greater efficiency, \\ntransparency and accoun tability. Introduction of updated income \\ntax returns, a new Form 26AS and prefilling of tax returns have 26 \\n made filing of tax returns simpler and easier. Average processing \\ntime of returns has been reduced from 93 days in the year  \\n2013 -14 to a mere ten days  this year, thereby making refunds \\nfaster.  \\nIndirect Taxes   \\n90. By unifying the highly fragmented indirect tax regime in \\nIndia, GST has reduced the compliance burden on trade and \\nindustry. The industry has acknowledged the benefits of GST. \\nAccording to a recen t survey conducted by a leading consulting \\nfirm, 94  per cent  of industry leaders view the transition to GST as \\nlargely positive. According to 80  per cent  of the respondents, it \\nhas led to supply chain optimisation, as elimination of tax \\narbitrage and octro i has resulted in disbanding of check posts at \\nstate and city boundaries. At the same time, tax base of GST \\nmore than doubled and the average monthly gross GST \\ncollection has almost doubled to ₹ 1.66 lakh crore, this year.  \\nStates too have benefited. States ’ SGST revenue, including \\ncompensation released to states, in the post -GST period of  \\n2017 -18 to 2022 -23, has achieved a buoyancy of 1.22. In \\ncontrast, the tax buoyancy of State revenues from subsumed \\ntaxes in the pre -GST four -year period of 2012 -13 to 201 5-16 was \\na mere 0.72. The biggest beneficiaries are the consumers, as \\nreduction in logistics costs and taxes have brought down prices \\nof most goods and services.  27 \\n 91. We have taken a number of steps in Customs to facilitate \\ninternational trade. As a result, the  import release time declined \\nby 47  per cent to 71 hours at Inland Container Depots, by 28  per \\ncent  to 44 hours at air cargo complexes and by 27  per cent  to  \\n85 hours at sea ports, over the last four years since 2019, when \\nthe National Time Release Studies  were first started.  \\nTax proposals  \\n92. As for tax proposals, in keeping with the convention, I do \\nnot propose to make any changes relating to taxation and \\npropose to retain the same tax rates for direct taxes and indirect \\ntaxes including import duties. However , certain tax benefits to \\nstart -ups and investments made by sovereign wealth or pension \\nfunds as also tax exemption on certain income of some IFSC units \\nare expiring on 31.03.2024. To provide continuity in taxation,  \\nI propose to extend the date to 31.03.2 025.  \\n93. Moreover, in line with  our Government’s vision to improve \\nease of living and ease of doing business, I wish to make an \\nannouncement to improve tax payer services. There are a large \\nnumber of petty, non -verified, non -reconciled or disputed direct \\ntax d emands, many of them dating as far back as the year 1962, \\nwhich continue to remain on the books, causing anxiety to \\nhonest tax payers and hindering refunds of subsequent years.  \\nI propose to withdraw such outstanding direct tax demands up \\nto twenty -five th ousand rupees ( ₹ 25,000 ) pertaining to the \\nperiod up to financial year 2009 -10 and up to ten-thousand 28 \\n rupees ( ₹ 10,000 ) for financial years 2010 -11 to 2014 -15. This is \\nexpected to benefit about a crore tax-payers.  \\nEconomy – Then and Now  \\n94. In 2014 when our Government assumed the reins, the \\nresponsibility to mend the economy step by step and to put the \\ngovernance systems in order was enormous. The need of the \\nhour was to give hope to the people, to attract investments, and \\nto build support for the much -needed reforms. The Government \\ndid that successfully following our strong belief of ‘nation -first’.   \\n95. The crisis of those years has been overcome, and the \\neconomy has been put firmly on a high sustainable growth path \\nwith all -round development. It is now appropri ate to look at \\nwhere we were then till 2014 and where we are now, only for \\nthe purpose of drawing lessons from the mismanagement of \\nthose years. The Government will lay a White Paper on table of \\nthe House.  \\n96. The exemplary track record of governance, develop ment \\nand performance , effective delivery , and ‘Jan Kalyan ’ has given \\nthe Government trust, confidence and blessings of the people to \\nrealize, whatever it takes, the goal of ‘Viksit Bharat’ with good \\nintentions, true dedication and hard work in the coming y ears \\nand decades .   \\n97. With this, I commend the interim budget to this august \\nHouse.  \\nJai Hind.  \""
      ]
     },
     "execution_count": 5,
     "metadata": {},
     "output_type": "execute_result"
    }
   ],
   "source": [
    "raw_text"
   ]
  },
  {
   "cell_type": "code",
   "execution_count": 6,
   "metadata": {},
   "outputs": [],
   "source": [
    "# We need to split the text using CharacterTextSplit such that it sshould not increse token size\n",
    "\n",
    "text_splitter = CharacterTextSplitter(\n",
    "    separator = \"\\n\",\n",
    "    chunk_size = 800,\n",
    "    chunk_overlap  = 200,\n",
    "    length_function = len,\n",
    ")\n",
    "texts = text_splitter.split_text(raw_text)"
   ]
  },
  {
   "cell_type": "code",
   "execution_count": 7,
   "metadata": {},
   "outputs": [
    {
     "data": {
      "text/plain": [
       "61"
      ]
     },
     "execution_count": 7,
     "metadata": {},
     "output_type": "execute_result"
    }
   ],
   "source": [
    "len(texts)"
   ]
  },
  {
   "cell_type": "code",
   "execution_count": 8,
   "metadata": {},
   "outputs": [
    {
     "name": "stderr",
     "output_type": "stream",
     "text": [
      "/Users/rasikagulhane/Desktop/LangChain/LCenv/lib/python3.9/site-packages/langchain_core/_api/deprecation.py:117: LangChainDeprecationWarning: The class `langchain_community.embeddings.openai.OpenAIEmbeddings` was deprecated in langchain-community 0.0.9 and will be removed in 0.2.0. An updated version of the class exists in the langchain-openai package and should be used instead. To use it run `pip install -U langchain-openai` and import as `from langchain_openai import OpenAIEmbeddings`.\n",
      "  warn_deprecated(\n"
     ]
    }
   ],
   "source": [
    "# Download embeddings from OpenAI\n",
    "embeddings = OpenAIEmbeddings()"
   ]
  },
  {
   "cell_type": "code",
   "execution_count": 9,
   "metadata": {},
   "outputs": [],
   "source": [
    "document_search = FAISS.from_texts(texts, embeddings)"
   ]
  },
  {
   "cell_type": "code",
   "execution_count": 10,
   "metadata": {},
   "outputs": [],
   "source": [
    "from langchain.chains.question_answering import load_qa_chain\n",
    "from langchain.llms import OpenAI"
   ]
  },
  {
   "cell_type": "code",
   "execution_count": 11,
   "metadata": {},
   "outputs": [
    {
     "name": "stderr",
     "output_type": "stream",
     "text": [
      "/Users/rasikagulhane/Desktop/LangChain/LCenv/lib/python3.9/site-packages/langchain_core/_api/deprecation.py:117: LangChainDeprecationWarning: The class `langchain_community.llms.openai.OpenAI` was deprecated in langchain-community 0.0.10 and will be removed in 0.2.0. An updated version of the class exists in the langchain-openai package and should be used instead. To use it run `pip install -U langchain-openai` and import as `from langchain_openai import OpenAI`.\n",
      "  warn_deprecated(\n"
     ]
    }
   ],
   "source": [
    "chain = load_qa_chain(OpenAI(), chain_type=\"stuff\")"
   ]
  },
  {
   "cell_type": "code",
   "execution_count": 12,
   "metadata": {},
   "outputs": [
    {
     "name": "stderr",
     "output_type": "stream",
     "text": [
      "/Users/rasikagulhane/Desktop/LangChain/LCenv/lib/python3.9/site-packages/langchain_core/_api/deprecation.py:117: LangChainDeprecationWarning: The function `run` was deprecated in LangChain 0.1.0 and will be removed in 0.2.0. Use invoke instead.\n",
      "  warn_deprecated(\n"
     ]
    },
    {
     "data": {
      "text/plain": [
       "\" The government's vision for Amrit Kaal is to adopt economic policies that foster and sustain growth, facilitate inclusive and sustainable development, improve productivity, create opportunities for all, and contribute to the generation of resources to power investments and fulfill aspirations. They also plan to focus on next generation reforms and build consensus for effective implementation, ensure timely and adequate finances, relevant technologies, and appropriate training for MSMEs, and utilize the potential of India's trinity of demography, democracy, and diversity to fulfill the aspirations of every Indian.\""
      ]
     },
     "execution_count": 12,
     "metadata": {},
     "output_type": "execute_result"
    }
   ],
   "source": [
    "query = \"Vision for Amrit Kaal\"\n",
    "docs = document_search.similarity_search(query)\n",
    "chain.run(input_documents=docs, question=query)"
   ]
  },
  {
   "cell_type": "code",
   "execution_count": 13,
   "metadata": {},
   "outputs": [
    {
     "data": {
      "text/plain": [
       "' The agriculture target will be increased to 5 tons per hectare and the focus will be on increasing aquaculture productivity, doubling exports, and generating employment opportunities.'"
      ]
     },
     "execution_count": 13,
     "metadata": {},
     "output_type": "execute_result"
    }
   ],
   "source": [
    "query = \"How much the agriculture target will be increased to and what the focus will be\"\n",
    "docs = document_search.similarity_search(query)\n",
    "chain.run(input_documents=docs, question=query)"
   ]
  },
  {
   "cell_type": "code",
   "execution_count": 14,
   "metadata": {},
   "outputs": [],
   "source": [
    "from langchain.document_loaders import OnlinePDFLoader"
   ]
  },
  {
   "cell_type": "code",
   "execution_count": 15,
   "metadata": {},
   "outputs": [],
   "source": [
    "loader = OnlinePDFLoader(\"https://arxiv.org/pdf/1706.03762.pdf\")"
   ]
  },
  {
   "cell_type": "code",
   "execution_count": null,
   "metadata": {},
   "outputs": [],
   "source": [
    "!pip install pdf2image"
   ]
  },
  {
   "cell_type": "code",
   "execution_count": null,
   "metadata": {},
   "outputs": [],
   "source": [
    "!pip install pdfminer.six\n"
   ]
  },
  {
   "cell_type": "code",
   "execution_count": null,
   "metadata": {},
   "outputs": [],
   "source": [
    "!pip install pillow-heif\n"
   ]
  },
  {
   "cell_type": "code",
   "execution_count": null,
   "metadata": {},
   "outputs": [],
   "source": [
    "!pip install opencv-python"
   ]
  },
  {
   "cell_type": "code",
   "execution_count": null,
   "metadata": {},
   "outputs": [],
   "source": [
    "!pip install unstructured"
   ]
  },
  {
   "cell_type": "code",
   "execution_count": null,
   "metadata": {},
   "outputs": [],
   "source": [
    "! pip install pikepdf pypdf unstructured_inference\n"
   ]
  },
  {
   "cell_type": "code",
   "execution_count": 16,
   "metadata": {},
   "outputs": [],
   "source": [
    "data = loader.load()"
   ]
  },
  {
   "cell_type": "code",
   "execution_count": 20,
   "metadata": {},
   "outputs": [
    {
     "data": {
      "text/plain": [
       "[Document(page_content='3 2 0 2\\n\\ng u A 2\\n\\n] L C . s c [\\n\\n7 v 2 6 7 3 0 . 6 0 7 1 : v i X r a\\n\\nProvided proper attribution is provided, Google hereby grants permission to reproduce the tables and figures in this paper solely for use in journalistic or scholarly works.\\n\\nAttention Is All You Need\\n\\nAshish Vaswani∗ Google Brain avaswani@google.com\\n\\nNoam Shazeer∗ Google Brain noam@google.com\\n\\nNiki Parmar∗ Google Research nikip@google.com\\n\\nJakob Uszkoreit∗ Google Research usz@google.com\\n\\nLlion Jones∗ Google Research llion@google.com\\n\\nAidan N. Gomez∗ † University of Toronto aidan@cs.toronto.edu\\n\\nŁukasz Kaiser∗ Google Brain lukaszkaiser@google.com\\n\\nIllia Polosukhin∗ ‡ illia.polosukhin@gmail.com\\n\\nAbstract\\n\\nThe dominant sequence transduction models are based on complex recurrent or convolutional neural networks that include an encoder and a decoder. The best performing models also connect the encoder and decoder through an attention mechanism. We propose a new simple network architecture, the Transformer, based solely on attention mechanisms, dispensing with recurrence and convolutions entirely. Experiments on two machine translation tasks show these models to be superior in quality while being more parallelizable and requiring significantly less time to train. Our model achieves 28.4 BLEU on the WMT 2014 English- to-German translation task, improving over the existing best results, including ensembles, by over 2 BLEU. On the WMT 2014 English-to-French translation task, our model establishes a new single-model state-of-the-art BLEU score of 41.8 after training for 3.5 days on eight GPUs, a small fraction of the training costs of the best models from the literature. We show that the Transformer generalizes well to other tasks by applying it successfully to English constituency parsing both with large and limited training data.\\n\\n∗Equal contribution. Listing order is random. Jakob proposed replacing RNNs with self-attention and started the effort to evaluate this idea. Ashish, with Illia, designed and implemented the first Transformer models and has been crucially involved in every aspect of this work. Noam proposed scaled dot-product attention, multi-head attention and the parameter-free position representation and became the other person involved in nearly every detail. Niki designed, implemented, tuned and evaluated countless model variants in our original codebase and tensor2tensor. Llion also experimented with novel model variants, was responsible for our initial codebase, and efficient inference and visualizations. Lukasz and Aidan spent countless long days designing various parts of and implementing tensor2tensor, replacing our earlier codebase, greatly improving results and massively accelerating our research.\\n\\n†Work performed while at Google Brain. ‡Work performed while at Google Research.\\n\\n31st Conference on Neural Information Processing Systems (NIPS 2017), Long Beach, CA, USA.\\n\\n1\\n\\nIntroduction\\n\\nRecurrent neural networks, long short-term memory [13] and gated recurrent [7] neural networks in particular, have been firmly established as state of the art approaches in sequence modeling and transduction problems such as language modeling and machine translation [35, 2, 5]. Numerous efforts have since continued to push the boundaries of recurrent language models and encoder-decoder architectures [38, 24, 15].\\n\\nRecurrent models typically factor computation along the symbol positions of the input and output sequences. Aligning the positions to steps in computation time, they generate a sequence of hidden states ht, as a function of the previous hidden state ht−1 and the input for position t. This inherently sequential nature precludes parallelization within training examples, which becomes critical at longer sequence lengths, as memory constraints limit batching across examples. Recent work has achieved significant improvements in computational efficiency through factorization tricks [21] and conditional computation [32], while also improving model performance in case of the latter. The fundamental constraint of sequential computation, however, remains.\\n\\nAttention mechanisms have become an integral part of compelling sequence modeling and transduc- tion models in various tasks, allowing modeling of dependencies without regard to their distance in the input or output sequences [2, 19]. In all but a few cases [27], however, such attention mechanisms are used in conjunction with a recurrent network.\\n\\nIn this work we propose the Transformer, a model architecture eschewing recurrence and instead relying entirely on an attention mechanism to draw global dependencies between input and output. The Transformer allows for significantly more parallelization and can reach a new state of the art in translation quality after being trained for as little as twelve hours on eight P100 GPUs.\\n\\n2 Background\\n\\nThe goal of reducing sequential computation also forms the foundation of the Extended Neural GPU [16], ByteNet [18] and ConvS2S [9], all of which use convolutional neural networks as basic building block, computing hidden representations in parallel for all input and output positions. In these models, the number of operations required to relate signals from two arbitrary input or output positions grows in the distance between positions, linearly for ConvS2S and logarithmically for ByteNet. This makes it more difficult to learn dependencies between distant positions [12]. In the Transformer this is reduced to a constant number of operations, albeit at the cost of reduced effective resolution due to averaging attention-weighted positions, an effect we counteract with Multi-Head Attention as described in section 3.2.\\n\\nSelf-attention, sometimes called intra-attention is an attention mechanism relating different positions of a single sequence in order to compute a representation of the sequence. Self-attention has been used successfully in a variety of tasks including reading comprehension, abstractive summarization, textual entailment and learning task-independent sentence representations [4, 27, 28, 22].\\n\\nEnd-to-end memory networks are based on a recurrent attention mechanism instead of sequence- aligned recurrence and have been shown to perform well on simple-language question answering and language modeling tasks [34].\\n\\nTo the best of our knowledge, however, the Transformer is the first transduction model relying entirely on self-attention to compute representations of its input and output without using sequence- aligned RNNs or convolution. In the following sections, we will describe the Transformer, motivate self-attention and discuss its advantages over models such as [17, 18] and [9].\\n\\n3 Model Architecture\\n\\nMost competitive neural sequence transduction models have an encoder-decoder structure [5, 2, 35]. Here, the encoder maps an input sequence of symbol representations (x1, ..., xn) to a sequence of continuous representations z = (z1, ..., zn). Given z, the decoder then generates an output sequence (y1, ..., ym) of symbols one element at a time. At each step the model is auto-regressive [10], consuming the previously generated symbols as additional input when generating the next.\\n\\n2\\n\\nFigure 1: The Transformer - model architecture.\\n\\nThe Transformer follows this overall architecture using stacked self-attention and point-wise, fully connected layers for both the encoder and decoder, shown in the left and right halves of Figure 1, respectively.\\n\\n3.1 Encoder and Decoder Stacks\\n\\nEncoder: The encoder is composed of a stack of N = 6 identical layers. Each layer has two sub-layers. The first is a multi-head self-attention mechanism, and the second is a simple, position- wise fully connected feed-forward network. We employ a residual connection [11] around each of the two sub-layers, followed by layer normalization [1]. That is, the output of each sub-layer is LayerNorm(x + Sublayer(x)), where Sublayer(x) is the function implemented by the sub-layer itself. To facilitate these residual connections, all sub-layers in the model, as well as the embedding layers, produce outputs of dimension dmodel = 512.\\n\\nDecoder: The decoder is also composed of a stack of N = 6 identical layers. In addition to the two sub-layers in each encoder layer, the decoder inserts a third sub-layer, which performs multi-head attention over the output of the encoder stack. Similar to the encoder, we employ residual connections around each of the sub-layers, followed by layer normalization. We also modify the self-attention sub-layer in the decoder stack to prevent positions from attending to subsequent positions. This masking, combined with fact that the output embeddings are offset by one position, ensures that the predictions for position i can depend only on the known outputs at positions less than i.\\n\\n3.2 Attention\\n\\nAn attention function can be described as mapping a query and a set of key-value pairs to an output, where the query, keys, values, and output are all vectors. The output is computed as a weighted sum\\n\\n3\\n\\nScaled Dot-Product Attention\\n\\nMulti-Head Attention\\n\\nFigure 2: (left) Scaled Dot-Product Attention. (right) Multi-Head Attention consists of several attention layers running in parallel.\\n\\nof the values, where the weight assigned to each value is computed by a compatibility function of the query with the corresponding key.\\n\\n3.2.1 Scaled Dot-Product Attention\\n\\nWe call our particular attention \"Scaled Dot-Product Attention\" (Figure 2). The input consists of queries and keys of dimension dk, and values of dimension dv. We compute the dot products of the dk, and apply a softmax function to obtain the weights on the query with all keys, divide each by values.\\n\\n√\\n\\nIn practice, we compute the attention function on a set of queries simultaneously, packed together into a matrix Q. The keys and values are also packed together into matrices K and V . We compute the matrix of outputs as:\\n\\nAttention(Q, K, V ) = softmax(\\n\\nQK T √ dk\\n\\n)V\\n\\nThe two most commonly used attention functions are additive attention [2], and dot-product (multi- plicative) attention. Dot-product attention is identical to our algorithm, except for the scaling factor . Additive attention computes the compatibility function using a feed-forward network with of a single hidden layer. While the two are similar in theoretical complexity, dot-product attention is much faster and more space-efficient in practice, since it can be implemented using highly optimized matrix multiplication code.\\n\\n1√\\n\\ndk\\n\\nWhile for small values of dk the two mechanisms perform similarly, additive attention outperforms dot product attention without scaling for larger values of dk [3]. We suspect that for large values of dk, the dot products grow large in magnitude, pushing the softmax function into regions where it has extremely small gradients 4. To counteract this effect, we scale the dot products by 1√ dk\\n\\n.\\n\\n3.2.2 Multi-Head Attention\\n\\nInstead of performing a single attention function with dmodel-dimensional keys, values and queries, we found it beneficial to linearly project the queries, keys and values h times with different, learned linear projections to dk, dk and dv dimensions, respectively. On each of these projected versions of queries, keys and values we then perform the attention function in parallel, yielding dv-dimensional\\n\\n4To illustrate why the dot products get large, assume that the components of q and k are independent random i=1 qiki, has mean 0 and variance dk.\\n\\nvariables with mean 0 and variance 1. Then their dot product, q · k = (cid:80)dk\\n\\n4\\n\\n(1)\\n\\noutput values. These are concatenated and once again projected, resulting in the final values, as depicted in Figure 2.\\n\\nMulti-head attention allows the model to jointly attend to information from different representation subspaces at different positions. With a single attention head, averaging inhibits this.\\n\\nMultiHead(Q, K, V ) = Concat(head1, ..., headh)W O\\n\\nwhere headi = Attention(QW Q\\n\\ni , KW K i\\n\\n, V W V\\n\\ni )\\n\\nWhere the projections are parameter matrices W Q and W O ∈ Rhdv×dmodel.\\n\\ni ∈ Rdmodel×dk , W K\\n\\ni ∈ Rdmodel×dk , W V\\n\\ni ∈ Rdmodel×dv\\n\\nIn this work we employ h = 8 parallel attention layers, or heads. For each of these we use dk = dv = dmodel/h = 64. Due to the reduced dimension of each head, the total computational cost is similar to that of single-head attention with full dimensionality.\\n\\n3.2.3 Applications of Attention in our Model\\n\\nThe Transformer uses multi-head attention in three different ways:\\n\\nIn \"encoder-decoder attention\" layers, the queries come from the previous decoder layer, and the memory keys and values come from the output of the encoder. This allows every position in the decoder to attend over all positions in the input sequence. This mimics the typical encoder-decoder attention mechanisms in sequence-to-sequence models such as [38, 2, 9].\\n\\nThe encoder contains self-attention layers. In a self-attention layer all of the keys, values and queries come from the same place, in this case, the output of the previous layer in the encoder. Each position in the encoder can attend to all positions in the previous layer of the encoder.\\n\\nSimilarly, self-attention layers in the decoder allow each position in the decoder to attend to all positions in the decoder up to and including that position. We need to prevent leftward information flow in the decoder to preserve the auto-regressive property. We implement this inside of scaled dot-product attention by masking out (setting to −∞) all values in the input of the softmax which correspond to illegal connections. See Figure 2.\\n\\n3.3 Position-wise Feed-Forward Networks\\n\\nIn addition to attention sub-layers, each of the layers in our encoder and decoder contains a fully connected feed-forward network, which is applied to each position separately and identically. This consists of two linear transformations with a ReLU activation in between.\\n\\nFFN(x) = max(0, xW1 + b1)W2 + b2\\n\\n(2)\\n\\nWhile the linear transformations are the same across different positions, they use different parameters from layer to layer. Another way of describing this is as two convolutions with kernel size 1. The dimensionality of input and output is dmodel = 512, and the inner-layer has dimensionality df f = 2048.\\n\\n3.4 Embeddings and Softmax\\n\\nSimilarly to other sequence transduction models, we use learned embeddings to convert the input tokens and output tokens to vectors of dimension dmodel. We also use the usual learned linear transfor- mation and softmax function to convert the decoder output to predicted next-token probabilities. In our model, we share the same weight matrix between the two embedding layers and the pre-softmax dmodel. linear transformation, similar to [30]. In the embedding layers, we multiply those weights by\\n\\n√\\n\\n5\\n\\nTable 1: Maximum path lengths, per-layer complexity and minimum number of sequential operations for different layer types. n is the sequence length, d is the representation dimension, k is the kernel size of convolutions and r the size of the neighborhood in restricted self-attention.\\n\\nLayer Type\\n\\nSelf-Attention Recurrent Convolutional Self-Attention (restricted)\\n\\nComplexity per Layer\\n\\nO(n2 · d) O(n · d2) O(k · n · d2) O(r · n · d)\\n\\nSequential Maximum Path Length Operations O(1) O(n) O(1) O(1)\\n\\nO(1) O(n) O(logk(n)) O(n/r)\\n\\n3.5 Positional Encoding\\n\\nSince our model contains no recurrence and no convolution, in order for the model to make use of the order of the sequence, we must inject some information about the relative or absolute position of the tokens in the sequence. To this end, we add \"positional encodings\" to the input embeddings at the bottoms of the encoder and decoder stacks. The positional encodings have the same dimension dmodel as the embeddings, so that the two can be summed. There are many choices of positional encodings, learned and fixed [9].\\n\\nIn this work, we use sine and cosine functions of different frequencies:\\n\\nP E(pos,2i) = sin(pos/100002i/dmodel) P E(pos,2i+1) = cos(pos/100002i/dmodel)\\n\\nwhere pos is the position and i is the dimension. That is, each dimension of the positional encoding corresponds to a sinusoid. The wavelengths form a geometric progression from 2π to 10000 · 2π. We chose this function because we hypothesized it would allow the model to easily learn to attend by relative positions, since for any fixed offset k, P Epos+k can be represented as a linear function of P Epos.\\n\\nWe also experimented with using learned positional embeddings [9] instead, and found that the two versions produced nearly identical results (see Table 3 row (E)). We chose the sinusoidal version because it may allow the model to extrapolate to sequence lengths longer than the ones encountered during training.\\n\\n4 Why Self-Attention\\n\\nIn this section we compare various aspects of self-attention layers to the recurrent and convolu- tional layers commonly used for mapping one variable-length sequence of symbol representations (x1, ..., xn) to another sequence of equal length (z1, ..., zn), with xi, zi ∈ Rd, such as a hidden layer in a typical sequence transduction encoder or decoder. Motivating our use of self-attention we consider three desiderata.\\n\\nOne is the total computational complexity per layer. Another is the amount of computation that can be parallelized, as measured by the minimum number of sequential operations required.\\n\\nThe third is the path length between long-range dependencies in the network. Learning long-range dependencies is a key challenge in many sequence transduction tasks. One key factor affecting the ability to learn such dependencies is the length of the paths forward and backward signals have to traverse in the network. The shorter these paths between any combination of positions in the input and output sequences, the easier it is to learn long-range dependencies [12]. Hence we also compare the maximum path length between any two input and output positions in networks composed of the different layer types.\\n\\nAs noted in Table 1, a self-attention layer connects all positions with a constant number of sequentially executed operations, whereas a recurrent layer requires O(n) sequential operations. In terms of computational complexity, self-attention layers are faster than recurrent layers when the sequence\\n\\n6\\n\\nlength n is smaller than the representation dimensionality d, which is most often the case with sentence representations used by state-of-the-art models in machine translations, such as word-piece [38] and byte-pair [31] representations. To improve computational performance for tasks involving very long sequences, self-attention could be restricted to considering only a neighborhood of size r in the input sequence centered around the respective output position. This would increase the maximum path length to O(n/r). We plan to investigate this approach further in future work.\\n\\nA single convolutional layer with kernel width k < n does not connect all pairs of input and output positions. Doing so requires a stack of O(n/k) convolutional layers in the case of contiguous kernels, or O(logk(n)) in the case of dilated convolutions [18], increasing the length of the longest paths between any two positions in the network. Convolutional layers are generally more expensive than recurrent layers, by a factor of k. Separable convolutions [6], however, decrease the complexity considerably, to O(k · n · d + n · d2). Even with k = n, however, the complexity of a separable convolution is equal to the combination of a self-attention layer and a point-wise feed-forward layer, the approach we take in our model.\\n\\nAs side benefit, self-attention could yield more interpretable models. We inspect attention distributions from our models and present and discuss examples in the appendix. Not only do individual attention heads clearly learn to perform different tasks, many appear to exhibit behavior related to the syntactic and semantic structure of the sentences.\\n\\n5 Training\\n\\nThis section describes the training regime for our models.\\n\\n5.1 Training Data and Batching\\n\\nWe trained on the standard WMT 2014 English-German dataset consisting of about 4.5 million sentence pairs. Sentences were encoded using byte-pair encoding [3], which has a shared source- target vocabulary of about 37000 tokens. For English-French, we used the significantly larger WMT 2014 English-French dataset consisting of 36M sentences and split tokens into a 32000 word-piece vocabulary [38]. Sentence pairs were batched together by approximate sequence length. Each training batch contained a set of sentence pairs containing approximately 25000 source tokens and 25000 target tokens.\\n\\n5.2 Hardware and Schedule\\n\\nWe trained our models on one machine with 8 NVIDIA P100 GPUs. For our base models using the hyperparameters described throughout the paper, each training step took about 0.4 seconds. We trained the base models for a total of 100,000 steps or 12 hours. For our big models,(described on the bottom line of table 3), step time was 1.0 seconds. The big models were trained for 300,000 steps (3.5 days).\\n\\n5.3 Optimizer\\n\\nWe used the Adam optimizer [20] with β1 = 0.9, β2 = 0.98 and ϵ = 10−9. We varied the learning rate over the course of training, according to the formula:\\n\\nlrate = d−0.5\\n\\nmodel · min(step_num−0.5, step_num · warmup_steps−1.5)\\n\\nThis corresponds to increasing the learning rate linearly for the first warmup_steps training steps, and decreasing it thereafter proportionally to the inverse square root of the step number. We used warmup_steps = 4000.\\n\\n5.4 Regularization\\n\\nWe employ three types of regularization during training:\\n\\n7\\n\\n(3)\\n\\nTable 2: The Transformer achieves better BLEU scores than previous state-of-the-art models on the English-to-German and English-to-French newstest2014 tests at a fraction of the training cost.\\n\\nModel\\n\\nByteNet [18] Deep-Att + PosUnk [39] GNMT + RL [38] ConvS2S [9] MoE [32] Deep-Att + PosUnk Ensemble [39] GNMT + RL Ensemble [38] ConvS2S Ensemble [9] Transformer (base model) Transformer (big)\\n\\nBLEU\\n\\nEN-DE EN-FR 23.75\\n\\n24.6 25.16 26.03\\n\\n26.30 26.36 27.3 28.4\\n\\n39.2 39.92 40.46 40.56 40.4 41.16 41.29 38.1 41.8\\n\\nTraining Cost (FLOPs)\\n\\nEN-DE\\n\\nEN-FR\\n\\n2.3 · 1019 9.6 · 1018 2.0 · 1019\\n\\n1.8 · 1020 7.7 · 1019\\n\\n1.0 · 1020 1.4 · 1020 1.5 · 1020 1.2 · 1020 8.0 · 1020 1.1 · 1021 1.2 · 1021\\n\\n3.3 · 1018 2.3 · 1019\\n\\nResidual Dropout We apply dropout [33] to the output of each sub-layer, before it is added to the sub-layer input and normalized. In addition, we apply dropout to the sums of the embeddings and the positional encodings in both the encoder and decoder stacks. For the base model, we use a rate of Pdrop = 0.1.\\n\\nLabel Smoothing During training, we employed label smoothing of value ϵls = 0.1 [36]. This hurts perplexity, as the model learns to be more unsure, but improves accuracy and BLEU score.\\n\\n6 Results\\n\\n6.1 Machine Translation\\n\\nOn the WMT 2014 English-to-German translation task, the big transformer model (Transformer (big) in Table 2) outperforms the best previously reported models (including ensembles) by more than 2.0 BLEU, establishing a new state-of-the-art BLEU score of 28.4. The configuration of this model is listed in the bottom line of Table 3. Training took 3.5 days on 8 P100 GPUs. Even our base model surpasses all previously published models and ensembles, at a fraction of the training cost of any of the competitive models.\\n\\nOn the WMT 2014 English-to-French translation task, our big model achieves a BLEU score of 41.0, outperforming all of the previously published single models, at less than 1/4 the training cost of the previous state-of-the-art model. The Transformer (big) model trained for English-to-French used dropout rate Pdrop = 0.1, instead of 0.3.\\n\\nFor the base models, we used a single model obtained by averaging the last 5 checkpoints, which were written at 10-minute intervals. For the big models, we averaged the last 20 checkpoints. We used beam search with a beam size of 4 and length penalty α = 0.6 [38]. These hyperparameters were chosen after experimentation on the development set. We set the maximum output length during inference to input length + 50, but terminate early when possible [38].\\n\\nTable 2 summarizes our results and compares our translation quality and training costs to other model architectures from the literature. We estimate the number of floating point operations used to train a model by multiplying the training time, the number of GPUs used, and an estimate of the sustained single-precision floating-point capacity of each GPU 5.\\n\\n6.2 Model Variations\\n\\nTo evaluate the importance of different components of the Transformer, we varied our base model in different ways, measuring the change in performance on English-to-German translation on the\\n\\n5We used values of 2.8, 3.7, 6.0 and 9.5 TFLOPS for K80, K40, M40 and P100, respectively.\\n\\n8\\n\\nTable 3: Variations on the Transformer architecture. Unlisted values are identical to those of the base model. All metrics are on the English-to-German translation development set, newstest2013. Listed perplexities are per-wordpiece, according to our byte-pair encoding, and should not be compared to per-word perplexities.\\n\\nbase\\n\\n(A)\\n\\n(B)\\n\\n(C)\\n\\n(D)\\n\\nN dmodel\\n\\n6\\n\\n512\\n\\n2 4 8\\n\\n256 1024\\n\\ndff\\n\\n2048\\n\\n1024 4096\\n\\nh\\n\\n8 1 4 16 32\\n\\ndk\\n\\n64 512 128 32 16 16 32\\n\\n32 128\\n\\ndv\\n\\n64 512 128 32 16\\n\\n32 128\\n\\nPdrop\\n\\n0.1\\n\\n0.0 0.2\\n\\nϵls\\n\\n0.1\\n\\n0.0 0.2\\n\\nPPL train steps (dev) 100K 4.92 5.29 5.00 4.91 5.01 5.16 5.01 6.11 5.19 4.88 5.75 4.66 5.12 4.75 5.77 4.95 4.67 5.47 4.92 300K 4.33\\n\\nBLEU params ×106 (dev) 25.8 65 24.9 25.5 25.8 25.4 25.1 25.4 23.7 25.3 25.5 24.5 26.0 25.4 26.2 24.6 25.5 25.3 25.7 25.7 26.4\\n\\n58 60 36 50 80 28 168 53 90\\n\\n(E) big\\n\\n6\\n\\npositional embedding instead of sinusoids\\n\\n1024\\n\\n4096\\n\\n16\\n\\n0.3\\n\\n213\\n\\ndevelopment set, newstest2013. We used beam search as described in the previous section, but no checkpoint averaging. We present these results in Table 3.\\n\\nIn Table 3 rows (A), we vary the number of attention heads and the attention key and value dimensions, keeping the amount of computation constant, as described in Section 3.2.2. While single-head attention is 0.9 BLEU worse than the best setting, quality also drops off with too many heads.\\n\\nIn Table 3 rows (B), we observe that reducing the attention key size dk hurts model quality. This suggests that determining compatibility is not easy and that a more sophisticated compatibility function than dot product may be beneficial. We further observe in rows (C) and (D) that, as expected, bigger models are better, and dropout is very helpful in avoiding over-fitting. In row (E) we replace our sinusoidal positional encoding with learned positional embeddings [9], and observe nearly identical results to the base model.\\n\\n6.3 English Constituency Parsing\\n\\nTo evaluate if the Transformer can generalize to other tasks we performed experiments on English constituency parsing. This task presents specific challenges: the output is subject to strong structural constraints and is significantly longer than the input. Furthermore, RNN sequence-to-sequence models have not been able to attain state-of-the-art results in small-data regimes [37].\\n\\nWe trained a 4-layer transformer with dmodel = 1024 on the Wall Street Journal (WSJ) portion of the Penn Treebank [25], about 40K training sentences. We also trained it in a semi-supervised setting, using the larger high-confidence and BerkleyParser corpora from with approximately 17M sentences [37]. We used a vocabulary of 16K tokens for the WSJ only setting and a vocabulary of 32K tokens for the semi-supervised setting.\\n\\nWe performed only a small number of experiments to select the dropout, both attention and residual (section 5.4), learning rates and beam size on the Section 22 development set, all other parameters remained unchanged from the English-to-German base translation model. During inference, we\\n\\n9\\n\\nTable 4: The Transformer generalizes well to English constituency parsing (Results are on Section 23 of WSJ)\\n\\nParser\\n\\nTraining\\n\\nVinyals & Kaiser el al. (2014) [37] WSJ only, discriminative WSJ only, discriminative WSJ only, discriminative WSJ only, discriminative WSJ only, discriminative semi-supervised semi-supervised semi-supervised semi-supervised semi-supervised multi-task generative\\n\\nPetrov et al. (2006) [29] Zhu et al. (2013) [40] Dyer et al. (2016) [8] Transformer (4 layers) Zhu et al. (2013) [40] Huang & Harper (2009) [14] McClosky et al. (2006) [26] Vinyals & Kaiser el al. (2014) [37] Transformer (4 layers) Luong et al. (2015) [23] Dyer et al. (2016) [8]\\n\\nWSJ 23 F1 88.3 90.4 90.4 91.7 91.3 91.3 91.3 92.1 92.1 92.7 93.0 93.3\\n\\nincreased the maximum output length to input length + 300. We used a beam size of 21 and α = 0.3 for both WSJ only and the semi-supervised setting.\\n\\nOur results in Table 4 show that despite the lack of task-specific tuning our model performs sur- prisingly well, yielding better results than all previously reported models with the exception of the Recurrent Neural Network Grammar [8].\\n\\nIn contrast to RNN sequence-to-sequence models [37], the Transformer outperforms the Berkeley- Parser [29] even when training only on the WSJ training set of 40K sentences.\\n\\n7 Conclusion\\n\\nIn this work, we presented the Transformer, the first sequence transduction model based entirely on attention, replacing the recurrent layers most commonly used in encoder-decoder architectures with multi-headed self-attention.\\n\\nFor translation tasks, the Transformer can be trained significantly faster than architectures based on recurrent or convolutional layers. On both WMT 2014 English-to-German and WMT 2014 English-to-French translation tasks, we achieve a new state of the art. In the former task our best model outperforms even all previously reported ensembles.\\n\\nWe are excited about the future of attention-based models and plan to apply them to other tasks. We plan to extend the Transformer to problems involving input and output modalities other than text and to investigate local, restricted attention mechanisms to efficiently handle large inputs and outputs such as images, audio and video. Making generation less sequential is another research goals of ours.\\n\\nThe code we used to train and evaluate our models is available at https://github.com/ tensorflow/tensor2tensor.\\n\\nAcknowledgements We are grateful to Nal Kalchbrenner and Stephan Gouws for their fruitful comments, corrections and inspiration.\\n\\nReferences\\n\\n[1] Jimmy Lei Ba, Jamie Ryan Kiros, and Geoffrey E Hinton. Layer normalization. arXiv preprint\\n\\narXiv:1607.06450, 2016.\\n\\n[2] Dzmitry Bahdanau, Kyunghyun Cho, and Yoshua Bengio. Neural machine translation by jointly\\n\\nlearning to align and translate. CoRR, abs/1409.0473, 2014.\\n\\n[3] Denny Britz, Anna Goldie, Minh-Thang Luong, and Quoc V. Le. Massive exploration of neural\\n\\nmachine translation architectures. CoRR, abs/1703.03906, 2017.\\n\\n[4] Jianpeng Cheng, Li Dong, and Mirella Lapata. Long short-term memory-networks for machine\\n\\nreading. arXiv preprint arXiv:1601.06733, 2016.\\n\\n10\\n\\n[5] Kyunghyun Cho, Bart van Merrienboer, Caglar Gulcehre, Fethi Bougares, Holger Schwenk, and Yoshua Bengio. Learning phrase representations using rnn encoder-decoder for statistical machine translation. CoRR, abs/1406.1078, 2014.\\n\\n[6] Francois Chollet. Xception: Deep learning with depthwise separable convolutions. arXiv\\n\\npreprint arXiv:1610.02357, 2016.\\n\\n[7] Junyoung Chung, Çaglar Gülçehre, Kyunghyun Cho, and Yoshua Bengio. Empirical evaluation of gated recurrent neural networks on sequence modeling. CoRR, abs/1412.3555, 2014.\\n\\n[8] Chris Dyer, Adhiguna Kuncoro, Miguel Ballesteros, and Noah A. Smith. Recurrent neural\\n\\nnetwork grammars. In Proc. of NAACL, 2016.\\n\\n[9] Jonas Gehring, Michael Auli, David Grangier, Denis Yarats, and Yann N. Dauphin. Convolu-\\n\\ntional sequence to sequence learning. arXiv preprint arXiv:1705.03122v2, 2017.\\n\\n[10] Alex Graves. Generating sequences with recurrent neural networks.\\n\\narXiv preprint\\n\\narXiv:1308.0850, 2013.\\n\\n[11] Kaiming He, Xiangyu Zhang, Shaoqing Ren, and Jian Sun. Deep residual learning for im- age recognition. In Proceedings of the IEEE Conference on Computer Vision and Pattern Recognition, pages 770–778, 2016.\\n\\n[12] Sepp Hochreiter, Yoshua Bengio, Paolo Frasconi, and Jürgen Schmidhuber. Gradient flow in\\n\\nrecurrent nets: the difficulty of learning long-term dependencies, 2001.\\n\\n[13] Sepp Hochreiter and Jürgen Schmidhuber. Long short-term memory. Neural computation,\\n\\n9(8):1735–1780, 1997.\\n\\n[14] Zhongqiang Huang and Mary Harper. Self-training PCFG grammars with latent annotations across languages. In Proceedings of the 2009 Conference on Empirical Methods in Natural Language Processing, pages 832–841. ACL, August 2009.\\n\\n[15] Rafal Jozefowicz, Oriol Vinyals, Mike Schuster, Noam Shazeer, and Yonghui Wu. Exploring\\n\\nthe limits of language modeling. arXiv preprint arXiv:1602.02410, 2016.\\n\\n[16] Łukasz Kaiser and Samy Bengio. Can active memory replace attention? In Advances in Neural\\n\\nInformation Processing Systems, (NIPS), 2016.\\n\\n[17] Łukasz Kaiser and Ilya Sutskever. Neural GPUs learn algorithms. In International Conference\\n\\non Learning Representations (ICLR), 2016.\\n\\n[18] Nal Kalchbrenner, Lasse Espeholt, Karen Simonyan, Aaron van den Oord, Alex Graves, and Ko- ray Kavukcuoglu. Neural machine translation in linear time. arXiv preprint arXiv:1610.10099v2, 2017.\\n\\n[19] Yoon Kim, Carl Denton, Luong Hoang, and Alexander M. Rush. Structured attention networks.\\n\\nIn International Conference on Learning Representations, 2017.\\n\\n[20] Diederik Kingma and Jimmy Ba. Adam: A method for stochastic optimization. In ICLR, 2015.\\n\\n[21] Oleksii Kuchaiev and Boris Ginsburg. Factorization tricks for LSTM networks. arXiv preprint\\n\\narXiv:1703.10722, 2017.\\n\\n[22] Zhouhan Lin, Minwei Feng, Cicero Nogueira dos Santos, Mo Yu, Bing Xiang, Bowen Zhou, and Yoshua Bengio. A structured self-attentive sentence embedding. arXiv preprint arXiv:1703.03130, 2017.\\n\\n[23] Minh-Thang Luong, Quoc V. Le, Ilya Sutskever, Oriol Vinyals, and Lukasz Kaiser. Multi-task\\n\\nsequence to sequence learning. arXiv preprint arXiv:1511.06114, 2015.\\n\\n[24] Minh-Thang Luong, Hieu Pham, and Christopher D Manning. Effective approaches to attention-\\n\\nbased neural machine translation. arXiv preprint arXiv:1508.04025, 2015.\\n\\n11\\n\\n[25] Mitchell P Marcus, Mary Ann Marcinkiewicz, and Beatrice Santorini. Building a large annotated corpus of english: The penn treebank. Computational linguistics, 19(2):313–330, 1993.\\n\\n[26] David McClosky, Eugene Charniak, and Mark Johnson. Effective self-training for parsing. In Proceedings of the Human Language Technology Conference of the NAACL, Main Conference, pages 152–159. ACL, June 2006.\\n\\n[27] Ankur Parikh, Oscar Täckström, Dipanjan Das, and Jakob Uszkoreit. A decomposable attention\\n\\nmodel. In Empirical Methods in Natural Language Processing, 2016.\\n\\n[28] Romain Paulus, Caiming Xiong, and Richard Socher. A deep reinforced model for abstractive\\n\\nsummarization. arXiv preprint arXiv:1705.04304, 2017.\\n\\n[29] Slav Petrov, Leon Barrett, Romain Thibaux, and Dan Klein. Learning accurate, compact, and interpretable tree annotation. In Proceedings of the 21st International Conference on Computational Linguistics and 44th Annual Meeting of the ACL, pages 433–440. ACL, July 2006.\\n\\n[30] Ofir Press and Lior Wolf. Using the output embedding to improve language models. arXiv\\n\\npreprint arXiv:1608.05859, 2016.\\n\\n[31] Rico Sennrich, Barry Haddow, and Alexandra Birch. Neural machine translation of rare words\\n\\nwith subword units. arXiv preprint arXiv:1508.07909, 2015.\\n\\n[32] Noam Shazeer, Azalia Mirhoseini, Krzysztof Maziarz, Andy Davis, Quoc Le, Geoffrey Hinton, and Jeff Dean. Outrageously large neural networks: The sparsely-gated mixture-of-experts layer. arXiv preprint arXiv:1701.06538, 2017.\\n\\n[33] Nitish Srivastava, Geoffrey E Hinton, Alex Krizhevsky, Ilya Sutskever, and Ruslan Salakhutdi- nov. Dropout: a simple way to prevent neural networks from overfitting. Journal of Machine Learning Research, 15(1):1929–1958, 2014.\\n\\n[34] Sainbayar Sukhbaatar, Arthur Szlam, Jason Weston, and Rob Fergus. End-to-end memory networks. In C. Cortes, N. D. Lawrence, D. D. Lee, M. Sugiyama, and R. Garnett, editors, Advances in Neural Information Processing Systems 28, pages 2440–2448. Curran Associates, Inc., 2015.\\n\\n[35] Ilya Sutskever, Oriol Vinyals, and Quoc VV Le. Sequence to sequence learning with neural\\n\\nnetworks. In Advances in Neural Information Processing Systems, pages 3104–3112, 2014.\\n\\n[36] Christian Szegedy, Vincent Vanhoucke, Sergey Ioffe, Jonathon Shlens, and Zbigniew Wojna. Rethinking the inception architecture for computer vision. CoRR, abs/1512.00567, 2015.\\n\\n[37] Vinyals & Kaiser, Koo, Petrov, Sutskever, and Hinton. Grammar as a foreign language. In\\n\\nAdvances in Neural Information Processing Systems, 2015.\\n\\n[38] Yonghui Wu, Mike Schuster, Zhifeng Chen, Quoc V Le, Mohammad Norouzi, Wolfgang Macherey, Maxim Krikun, Yuan Cao, Qin Gao, Klaus Macherey, et al. Google’s neural machine translation system: Bridging the gap between human and machine translation. arXiv preprint arXiv:1609.08144, 2016.\\n\\n[39] Jie Zhou, Ying Cao, Xuguang Wang, Peng Li, and Wei Xu. Deep recurrent models with fast-forward connections for neural machine translation. CoRR, abs/1606.04199, 2016.\\n\\n[40] Muhua Zhu, Yue Zhang, Wenliang Chen, Min Zhang, and Jingbo Zhu. Fast and accurate shift-reduce constituent parsing. In Proceedings of the 51st Annual Meeting of the ACL (Volume 1: Long Papers), pages 434–443. ACL, August 2013.\\n\\n12\\n\\nAttention Visualizations\\n\\nthis\\n\\nthis\\n\\ndifficult\\n\\ndifficult\\n\\nprocess\\n\\nprocess\\n\\nmajority\\n\\nhave\\n\\nmore\\n\\nmore\\n\\nnew\\n\\nnew\\n\\nAmerican\\n\\nAmerican\\n\\nhave\\n\\nof\\n\\nIt\\n\\npassed\\n\\npassed\\n\\nregistration\\n\\nregistration\\n\\ngovernments\\n\\ngovernments\\n\\nvoting\\n\\nIt\\n\\nin\\n\\nin\\n\\nsince\\n\\nsince\\n\\nor\\n\\nor\\n\\nmajority\\n\\nof\\n\\nvoting\\n\\nlaws\\n\\n<pad>\\n\\n<EOS>\\n\\n<EOS>\\n\\nInput-Input Layer5\\n\\n.\\n\\n.\\n\\n<pad>\\n\\na\\n\\nthe\\n\\nthe\\n\\nspirit\\n\\nspirit\\n\\nthat\\n\\nthat\\n\\nmaking\\n\\n<pad>\\n\\n<pad>\\n\\n<pad>\\n\\n<pad>\\n\\n<pad>\\n\\n<pad>\\n\\n<pad>\\n\\n<pad>\\n\\n<pad>\\n\\n<pad>\\n\\n2009\\n\\n2009\\n\\nis\\n\\nis\\n\\nmaking\\n\\na\\n\\nlaws\\n\\nFigure 3: An example of the attention mechanism following long-distance dependencies in the encoder self-attention in layer 5 of 6. Many of the attention heads attend to a distant dependency of the verb ‘making’, completing the phrase ‘making...more difficult’. Attentions here shown only for the word ‘making’. Different colors represent different heads. Best viewed in color.\\n\\n13\\n\\napplication\\n\\nbe\\n\\nbe\\n\\nnever\\n\\njust\\n\\nThe\\n\\nLaw\\n\\nwill\\n\\nbut\\n\\nInput-Input Layer5\\n\\n,\\n\\n just\\n\\n just\\n\\nits\\n\\nshould\\n\\nperfect\\n\\n just\\n\\n <pad>\\n\\nFigure 4: Two attention heads, also in layer 5 of 6, apparently involved in anaphora resolution. Top: Full attentions for head 5. Bottom: Isolated attentions from just the word ‘its’ for attention heads 5 and 6. Note that the attentions are very sharp for this word.\\n\\n14\\n\\napplication\\n\\nbe\\n\\nbe\\n\\nnever\\n\\njust\\n\\nThe\\n\\nLaw\\n\\nwill\\n\\nbut\\n\\nInput-Input Layer5\\n\\n,\\n\\n just\\n\\n just\\n\\nits\\n\\nshould\\n\\nperfect\\n\\n just\\n\\n <pad>\\n\\nFigure 5: Many of the attention heads exhibit behaviour that seems related to the structure of the sentence. We give two such examples above, from two different heads from the encoder self-attention at layer 5 of 6. The heads clearly learned to perform different tasks.\\n\\n15', metadata={'source': '/var/folders/qv/gqb3583x48g_90k1j3lvlvyr0000gn/T/tmpu9u0c8y3/tmp.pdf'})]"
      ]
     },
     "execution_count": 20,
     "metadata": {},
     "output_type": "execute_result"
    }
   ],
   "source": [
    "data"
   ]
  },
  {
   "cell_type": "code",
   "execution_count": 21,
   "metadata": {},
   "outputs": [],
   "source": [
    "# Download embeddings from OpenAI\n",
    "embeddings = OpenAIEmbeddings()"
   ]
  },
  {
   "cell_type": "code",
   "execution_count": 22,
   "metadata": {},
   "outputs": [
    {
     "name": "stdout",
     "output_type": "stream",
     "text": [
      "Collecting chromadb\n",
      "  Downloading chromadb-0.4.24-py3-none-any.whl.metadata (7.3 kB)\n",
      "Collecting build>=1.0.3 (from chromadb)\n",
      "  Downloading build-1.2.1-py3-none-any.whl.metadata (4.3 kB)\n",
      "Requirement already satisfied: requests>=2.28 in ./LCenv/lib/python3.9/site-packages (from chromadb) (2.31.0)\n",
      "Requirement already satisfied: pydantic>=1.9 in ./LCenv/lib/python3.9/site-packages (from chromadb) (2.7.0)\n",
      "Collecting chroma-hnswlib==0.7.3 (from chromadb)\n",
      "  Downloading chroma_hnswlib-0.7.3-cp39-cp39-macosx_11_0_arm64.whl.metadata (252 bytes)\n",
      "Collecting fastapi>=0.95.2 (from chromadb)\n",
      "  Downloading fastapi-0.110.1-py3-none-any.whl.metadata (24 kB)\n",
      "Collecting uvicorn>=0.18.3 (from uvicorn[standard]>=0.18.3->chromadb)\n",
      "  Downloading uvicorn-0.29.0-py3-none-any.whl.metadata (6.3 kB)\n",
      "Requirement already satisfied: numpy>=1.22.5 in ./LCenv/lib/python3.9/site-packages (from chromadb) (1.26.4)\n",
      "Collecting posthog>=2.4.0 (from chromadb)\n",
      "  Using cached posthog-3.5.0-py2.py3-none-any.whl.metadata (2.0 kB)\n",
      "Requirement already satisfied: typing-extensions>=4.5.0 in ./LCenv/lib/python3.9/site-packages (from chromadb) (4.11.0)\n",
      "Collecting pulsar-client>=3.1.0 (from chromadb)\n",
      "  Downloading pulsar_client-3.5.0-cp39-cp39-macosx_10_15_universal2.whl.metadata (1.1 kB)\n",
      "Requirement already satisfied: onnxruntime>=1.14.1 in ./LCenv/lib/python3.9/site-packages (from chromadb) (1.15.1)\n",
      "Collecting opentelemetry-api>=1.2.0 (from chromadb)\n",
      "  Downloading opentelemetry_api-1.24.0-py3-none-any.whl.metadata (1.3 kB)\n",
      "Collecting opentelemetry-exporter-otlp-proto-grpc>=1.2.0 (from chromadb)\n",
      "  Downloading opentelemetry_exporter_otlp_proto_grpc-1.24.0-py3-none-any.whl.metadata (2.2 kB)\n",
      "Collecting opentelemetry-instrumentation-fastapi>=0.41b0 (from chromadb)\n",
      "  Downloading opentelemetry_instrumentation_fastapi-0.45b0-py3-none-any.whl.metadata (2.0 kB)\n",
      "Collecting opentelemetry-sdk>=1.2.0 (from chromadb)\n",
      "  Downloading opentelemetry_sdk-1.24.0-py3-none-any.whl.metadata (1.4 kB)\n",
      "Requirement already satisfied: tokenizers>=0.13.2 in ./LCenv/lib/python3.9/site-packages (from chromadb) (0.19.1)\n",
      "Collecting pypika>=0.48.9 (from chromadb)\n",
      "  Downloading PyPika-0.48.9.tar.gz (67 kB)\n",
      "\u001b[2K     \u001b[90m━━━━━━━━━━━━━━━━━━━━━━━━━━━━━━━━━━━━━━━\u001b[0m \u001b[32m67.3/67.3 kB\u001b[0m \u001b[31m436.1 kB/s\u001b[0m eta \u001b[36m0:00:00\u001b[0ma \u001b[36m0:00:01\u001b[0m\n",
      "\u001b[?25h  Installing build dependencies ... \u001b[?25ldone\n",
      "\u001b[?25h  Getting requirements to build wheel ... \u001b[?25ldone\n",
      "\u001b[?25h  Preparing metadata (pyproject.toml) ... \u001b[?25ldone\n",
      "\u001b[?25hRequirement already satisfied: tqdm>=4.65.0 in ./LCenv/lib/python3.9/site-packages (from chromadb) (4.66.2)\n",
      "Collecting overrides>=7.3.1 (from chromadb)\n",
      "  Using cached overrides-7.7.0-py3-none-any.whl.metadata (5.8 kB)\n",
      "Requirement already satisfied: importlib-resources in ./LCenv/lib/python3.9/site-packages (from chromadb) (6.4.0)\n",
      "Collecting grpcio>=1.58.0 (from chromadb)\n",
      "  Downloading grpcio-1.62.2-cp39-cp39-macosx_10_10_universal2.whl.metadata (4.0 kB)\n",
      "Collecting bcrypt>=4.0.1 (from chromadb)\n",
      "  Downloading bcrypt-4.1.2-cp39-abi3-macosx_10_12_universal2.whl.metadata (9.5 kB)\n",
      "Collecting typer>=0.9.0 (from chromadb)\n",
      "  Downloading typer-0.12.3-py3-none-any.whl.metadata (15 kB)\n",
      "Collecting kubernetes>=28.1.0 (from chromadb)\n",
      "  Downloading kubernetes-29.0.0-py2.py3-none-any.whl.metadata (1.5 kB)\n",
      "Requirement already satisfied: tenacity>=8.2.3 in ./LCenv/lib/python3.9/site-packages (from chromadb) (8.2.3)\n",
      "Requirement already satisfied: PyYAML>=6.0.0 in ./LCenv/lib/python3.9/site-packages (from chromadb) (6.0.1)\n",
      "Collecting mmh3>=4.0.1 (from chromadb)\n",
      "  Downloading mmh3-4.1.0-cp39-cp39-macosx_11_0_arm64.whl.metadata (13 kB)\n",
      "Requirement already satisfied: orjson>=3.9.12 in ./LCenv/lib/python3.9/site-packages (from chromadb) (3.10.1)\n",
      "Requirement already satisfied: packaging>=19.1 in ./LCenv/lib/python3.9/site-packages (from build>=1.0.3->chromadb) (23.2)\n",
      "Collecting pyproject_hooks (from build>=1.0.3->chromadb)\n",
      "  Downloading pyproject_hooks-1.0.0-py3-none-any.whl.metadata (1.3 kB)\n",
      "Collecting importlib-metadata>=4.6 (from build>=1.0.3->chromadb)\n",
      "  Downloading importlib_metadata-7.1.0-py3-none-any.whl.metadata (4.7 kB)\n",
      "Collecting tomli>=1.1.0 (from build>=1.0.3->chromadb)\n",
      "  Using cached tomli-2.0.1-py3-none-any.whl.metadata (8.9 kB)\n",
      "Collecting starlette<0.38.0,>=0.37.2 (from fastapi>=0.95.2->chromadb)\n",
      "  Downloading starlette-0.37.2-py3-none-any.whl.metadata (5.9 kB)\n",
      "Requirement already satisfied: certifi>=14.05.14 in ./LCenv/lib/python3.9/site-packages (from kubernetes>=28.1.0->chromadb) (2024.2.2)\n",
      "Requirement already satisfied: six>=1.9.0 in ./LCenv/lib/python3.9/site-packages (from kubernetes>=28.1.0->chromadb) (1.16.0)\n",
      "Requirement already satisfied: python-dateutil>=2.5.3 in ./LCenv/lib/python3.9/site-packages (from kubernetes>=28.1.0->chromadb) (2.9.0)\n",
      "Collecting google-auth>=1.0.1 (from kubernetes>=28.1.0->chromadb)\n",
      "  Downloading google_auth-2.29.0-py2.py3-none-any.whl.metadata (4.7 kB)\n",
      "Collecting websocket-client!=0.40.0,!=0.41.*,!=0.42.*,>=0.32.0 (from kubernetes>=28.1.0->chromadb)\n",
      "  Using cached websocket_client-1.7.0-py3-none-any.whl.metadata (7.9 kB)\n",
      "Collecting requests-oauthlib (from kubernetes>=28.1.0->chromadb)\n",
      "  Downloading requests_oauthlib-2.0.0-py2.py3-none-any.whl.metadata (11 kB)\n",
      "Collecting oauthlib>=3.2.2 (from kubernetes>=28.1.0->chromadb)\n",
      "  Using cached oauthlib-3.2.2-py3-none-any.whl.metadata (7.5 kB)\n",
      "Requirement already satisfied: urllib3>=1.24.2 in ./LCenv/lib/python3.9/site-packages (from kubernetes>=28.1.0->chromadb) (2.2.1)\n",
      "Requirement already satisfied: coloredlogs in ./LCenv/lib/python3.9/site-packages (from onnxruntime>=1.14.1->chromadb) (15.0.1)\n",
      "Requirement already satisfied: flatbuffers in ./LCenv/lib/python3.9/site-packages (from onnxruntime>=1.14.1->chromadb) (24.3.25)\n",
      "Requirement already satisfied: protobuf in ./LCenv/lib/python3.9/site-packages (from onnxruntime>=1.14.1->chromadb) (4.25.3)\n",
      "Requirement already satisfied: sympy in ./LCenv/lib/python3.9/site-packages (from onnxruntime>=1.14.1->chromadb) (1.12)\n",
      "Requirement already satisfied: deprecated>=1.2.6 in ./LCenv/lib/python3.9/site-packages (from opentelemetry-api>=1.2.0->chromadb) (1.2.14)\n",
      "Collecting importlib-metadata>=4.6 (from build>=1.0.3->chromadb)\n",
      "  Downloading importlib_metadata-7.0.0-py3-none-any.whl.metadata (4.9 kB)\n",
      "Collecting googleapis-common-protos~=1.52 (from opentelemetry-exporter-otlp-proto-grpc>=1.2.0->chromadb)\n",
      "  Downloading googleapis_common_protos-1.63.0-py2.py3-none-any.whl.metadata (1.5 kB)\n",
      "Collecting opentelemetry-exporter-otlp-proto-common==1.24.0 (from opentelemetry-exporter-otlp-proto-grpc>=1.2.0->chromadb)\n",
      "  Downloading opentelemetry_exporter_otlp_proto_common-1.24.0-py3-none-any.whl.metadata (1.7 kB)\n",
      "Collecting opentelemetry-proto==1.24.0 (from opentelemetry-exporter-otlp-proto-grpc>=1.2.0->chromadb)\n",
      "  Downloading opentelemetry_proto-1.24.0-py3-none-any.whl.metadata (2.2 kB)\n",
      "Collecting opentelemetry-instrumentation-asgi==0.45b0 (from opentelemetry-instrumentation-fastapi>=0.41b0->chromadb)\n",
      "  Downloading opentelemetry_instrumentation_asgi-0.45b0-py3-none-any.whl.metadata (1.9 kB)\n",
      "Collecting opentelemetry-instrumentation==0.45b0 (from opentelemetry-instrumentation-fastapi>=0.41b0->chromadb)\n",
      "  Downloading opentelemetry_instrumentation-0.45b0-py3-none-any.whl.metadata (6.1 kB)\n",
      "Collecting opentelemetry-semantic-conventions==0.45b0 (from opentelemetry-instrumentation-fastapi>=0.41b0->chromadb)\n",
      "  Downloading opentelemetry_semantic_conventions-0.45b0-py3-none-any.whl.metadata (2.2 kB)\n",
      "Collecting opentelemetry-util-http==0.45b0 (from opentelemetry-instrumentation-fastapi>=0.41b0->chromadb)\n",
      "  Downloading opentelemetry_util_http-0.45b0-py3-none-any.whl.metadata (2.4 kB)\n",
      "Requirement already satisfied: setuptools>=16.0 in ./LCenv/lib/python3.9/site-packages (from opentelemetry-instrumentation==0.45b0->opentelemetry-instrumentation-fastapi>=0.41b0->chromadb) (68.2.2)\n",
      "Requirement already satisfied: wrapt<2.0.0,>=1.0.0 in ./LCenv/lib/python3.9/site-packages (from opentelemetry-instrumentation==0.45b0->opentelemetry-instrumentation-fastapi>=0.41b0->chromadb) (1.16.0)\n",
      "Collecting asgiref~=3.0 (from opentelemetry-instrumentation-asgi==0.45b0->opentelemetry-instrumentation-fastapi>=0.41b0->chromadb)\n",
      "  Downloading asgiref-3.8.1-py3-none-any.whl.metadata (9.3 kB)\n",
      "Collecting monotonic>=1.5 (from posthog>=2.4.0->chromadb)\n",
      "  Using cached monotonic-1.6-py2.py3-none-any.whl.metadata (1.5 kB)\n",
      "Requirement already satisfied: backoff>=1.10.0 in ./LCenv/lib/python3.9/site-packages (from posthog>=2.4.0->chromadb) (2.2.1)\n",
      "Requirement already satisfied: annotated-types>=0.4.0 in ./LCenv/lib/python3.9/site-packages (from pydantic>=1.9->chromadb) (0.6.0)\n",
      "Requirement already satisfied: pydantic-core==2.18.1 in ./LCenv/lib/python3.9/site-packages (from pydantic>=1.9->chromadb) (2.18.1)\n",
      "Requirement already satisfied: charset-normalizer<4,>=2 in ./LCenv/lib/python3.9/site-packages (from requests>=2.28->chromadb) (3.3.2)\n",
      "Requirement already satisfied: idna<4,>=2.5 in ./LCenv/lib/python3.9/site-packages (from requests>=2.28->chromadb) (3.7)\n",
      "Requirement already satisfied: huggingface-hub<1.0,>=0.16.4 in ./LCenv/lib/python3.9/site-packages (from tokenizers>=0.13.2->chromadb) (0.22.2)\n",
      "Requirement already satisfied: click>=8.0.0 in ./LCenv/lib/python3.9/site-packages (from typer>=0.9.0->chromadb) (8.1.7)\n",
      "Collecting shellingham>=1.3.0 (from typer>=0.9.0->chromadb)\n",
      "  Downloading shellingham-1.5.4-py2.py3-none-any.whl.metadata (3.5 kB)\n",
      "Requirement already satisfied: rich>=10.11.0 in ./LCenv/lib/python3.9/site-packages (from typer>=0.9.0->chromadb) (13.7.1)\n",
      "Requirement already satisfied: h11>=0.8 in ./LCenv/lib/python3.9/site-packages (from uvicorn>=0.18.3->uvicorn[standard]>=0.18.3->chromadb) (0.14.0)\n",
      "Collecting httptools>=0.5.0 (from uvicorn[standard]>=0.18.3->chromadb)\n",
      "  Using cached httptools-0.6.1-cp39-cp39-macosx_10_9_universal2.whl.metadata (3.6 kB)\n",
      "Collecting python-dotenv>=0.13 (from uvicorn[standard]>=0.18.3->chromadb)\n",
      "  Using cached python_dotenv-1.0.1-py3-none-any.whl.metadata (23 kB)\n",
      "Collecting uvloop!=0.15.0,!=0.15.1,>=0.14.0 (from uvicorn[standard]>=0.18.3->chromadb)\n",
      "  Using cached uvloop-0.19.0-cp39-cp39-macosx_10_9_universal2.whl.metadata (4.9 kB)\n",
      "Collecting watchfiles>=0.13 (from uvicorn[standard]>=0.18.3->chromadb)\n",
      "  Using cached watchfiles-0.21.0-cp39-cp39-macosx_11_0_arm64.whl.metadata (4.9 kB)\n",
      "Collecting websockets>=10.4 (from uvicorn[standard]>=0.18.3->chromadb)\n",
      "  Using cached websockets-12.0-cp39-cp39-macosx_11_0_arm64.whl.metadata (6.6 kB)\n",
      "Requirement already satisfied: zipp>=3.1.0 in ./LCenv/lib/python3.9/site-packages (from importlib-resources->chromadb) (3.18.1)\n",
      "Requirement already satisfied: cachetools<6.0,>=2.0.0 in ./LCenv/lib/python3.9/site-packages (from google-auth>=1.0.1->kubernetes>=28.1.0->chromadb) (5.3.3)\n",
      "Collecting pyasn1-modules>=0.2.1 (from google-auth>=1.0.1->kubernetes>=28.1.0->chromadb)\n",
      "  Downloading pyasn1_modules-0.4.0-py3-none-any.whl.metadata (3.4 kB)\n",
      "Collecting rsa<5,>=3.1.4 (from google-auth>=1.0.1->kubernetes>=28.1.0->chromadb)\n",
      "  Using cached rsa-4.9-py3-none-any.whl.metadata (4.2 kB)\n",
      "Requirement already satisfied: filelock in ./LCenv/lib/python3.9/site-packages (from huggingface-hub<1.0,>=0.16.4->tokenizers>=0.13.2->chromadb) (3.13.4)\n",
      "Requirement already satisfied: fsspec>=2023.5.0 in ./LCenv/lib/python3.9/site-packages (from huggingface-hub<1.0,>=0.16.4->tokenizers>=0.13.2->chromadb) (2024.3.1)\n",
      "Requirement already satisfied: markdown-it-py>=2.2.0 in ./LCenv/lib/python3.9/site-packages (from rich>=10.11.0->typer>=0.9.0->chromadb) (3.0.0)\n",
      "Requirement already satisfied: pygments<3.0.0,>=2.13.0 in ./LCenv/lib/python3.9/site-packages (from rich>=10.11.0->typer>=0.9.0->chromadb) (2.17.2)\n",
      "Requirement already satisfied: anyio<5,>=3.4.0 in ./LCenv/lib/python3.9/site-packages (from starlette<0.38.0,>=0.37.2->fastapi>=0.95.2->chromadb) (4.3.0)\n",
      "Requirement already satisfied: humanfriendly>=9.1 in ./LCenv/lib/python3.9/site-packages (from coloredlogs->onnxruntime>=1.14.1->chromadb) (10.0)\n",
      "Requirement already satisfied: mpmath>=0.19 in ./LCenv/lib/python3.9/site-packages (from sympy->onnxruntime>=1.14.1->chromadb) (1.3.0)\n",
      "Requirement already satisfied: sniffio>=1.1 in ./LCenv/lib/python3.9/site-packages (from anyio<5,>=3.4.0->starlette<0.38.0,>=0.37.2->fastapi>=0.95.2->chromadb) (1.3.1)\n",
      "Requirement already satisfied: exceptiongroup>=1.0.2 in ./LCenv/lib/python3.9/site-packages (from anyio<5,>=3.4.0->starlette<0.38.0,>=0.37.2->fastapi>=0.95.2->chromadb) (1.2.0)\n",
      "Requirement already satisfied: mdurl~=0.1 in ./LCenv/lib/python3.9/site-packages (from markdown-it-py>=2.2.0->rich>=10.11.0->typer>=0.9.0->chromadb) (0.1.2)\n",
      "Collecting pyasn1<0.7.0,>=0.4.6 (from pyasn1-modules>=0.2.1->google-auth>=1.0.1->kubernetes>=28.1.0->chromadb)\n",
      "  Downloading pyasn1-0.6.0-py2.py3-none-any.whl.metadata (8.3 kB)\n",
      "Downloading chromadb-0.4.24-py3-none-any.whl (525 kB)\n",
      "\u001b[2K   \u001b[90m━━━━━━━━━━━━━━━━━━━━━━━━━━━━━━━━━━━━━━━━\u001b[0m \u001b[32m525.5/525.5 kB\u001b[0m \u001b[31m8.0 MB/s\u001b[0m eta \u001b[36m0:00:00\u001b[0ma \u001b[36m0:00:01\u001b[0m\n",
      "\u001b[?25hDownloading chroma_hnswlib-0.7.3-cp39-cp39-macosx_11_0_arm64.whl (197 kB)\n",
      "\u001b[2K   \u001b[90m━━━━━━━━━━━━━━━━━━━━━━━━━━━━━━━━━━━━━━━━\u001b[0m \u001b[32m197.2/197.2 kB\u001b[0m \u001b[31m13.8 MB/s\u001b[0m eta \u001b[36m0:00:00\u001b[0m\n",
      "\u001b[?25hDownloading bcrypt-4.1.2-cp39-abi3-macosx_10_12_universal2.whl (528 kB)\n",
      "\u001b[2K   \u001b[90m━━━━━━━━━━━━━━━━━━━━━━━━━━━━━━━━━━━━━━━━\u001b[0m \u001b[32m528.5/528.5 kB\u001b[0m \u001b[31m14.4 MB/s\u001b[0m eta \u001b[36m0:00:00\u001b[0m\n",
      "\u001b[?25hDownloading build-1.2.1-py3-none-any.whl (21 kB)\n",
      "Downloading fastapi-0.110.1-py3-none-any.whl (91 kB)\n",
      "\u001b[2K   \u001b[90m━━━━━━━━━━━━━━━━━━━━━━━━━━━━━━━━━━━━━━━━\u001b[0m \u001b[32m91.9/91.9 kB\u001b[0m \u001b[31m10.3 MB/s\u001b[0m eta \u001b[36m0:00:00\u001b[0m\n",
      "\u001b[?25hDownloading grpcio-1.62.2-cp39-cp39-macosx_10_10_universal2.whl (10.1 MB)\n",
      "\u001b[2K   \u001b[90m━━━━━━━━━━━━━━━━━━━━━━━━━━━━━━━━━━━━━━━━\u001b[0m \u001b[32m10.1/10.1 MB\u001b[0m \u001b[31m35.2 MB/s\u001b[0m eta \u001b[36m0:00:00\u001b[0m00:01\u001b[0m0:01\u001b[0m\n",
      "\u001b[?25hDownloading kubernetes-29.0.0-py2.py3-none-any.whl (1.6 MB)\n",
      "\u001b[2K   \u001b[90m━━━━━━━━━━━━━━━━━━━━━━━━━━━━━━━━━━━━━━━━\u001b[0m \u001b[32m1.6/1.6 MB\u001b[0m \u001b[31m30.1 MB/s\u001b[0m eta \u001b[36m0:00:00\u001b[0ma \u001b[36m0:00:01\u001b[0m\n",
      "\u001b[?25hDownloading mmh3-4.1.0-cp39-cp39-macosx_11_0_arm64.whl (30 kB)\n",
      "Downloading opentelemetry_api-1.24.0-py3-none-any.whl (60 kB)\n",
      "\u001b[2K   \u001b[90m━━━━━━━━━━━━━━━━━━━━━━━━━━━━━━━━━━━━━━━━\u001b[0m \u001b[32m60.1/60.1 kB\u001b[0m \u001b[31m6.0 MB/s\u001b[0m eta \u001b[36m0:00:00\u001b[0m\n",
      "\u001b[?25hDownloading opentelemetry_exporter_otlp_proto_grpc-1.24.0-py3-none-any.whl (18 kB)\n",
      "Downloading opentelemetry_exporter_otlp_proto_common-1.24.0-py3-none-any.whl (17 kB)\n",
      "Downloading opentelemetry_proto-1.24.0-py3-none-any.whl (50 kB)\n",
      "\u001b[2K   \u001b[90m━━━━━━━━━━━━━━━━━━━━━━━━━━━━━━━━━━━━━━━━\u001b[0m \u001b[32m50.8/50.8 kB\u001b[0m \u001b[31m5.3 MB/s\u001b[0m eta \u001b[36m0:00:00\u001b[0m\n",
      "\u001b[?25hDownloading opentelemetry_instrumentation_fastapi-0.45b0-py3-none-any.whl (11 kB)\n",
      "Downloading opentelemetry_instrumentation-0.45b0-py3-none-any.whl (28 kB)\n",
      "Downloading opentelemetry_instrumentation_asgi-0.45b0-py3-none-any.whl (14 kB)\n",
      "Downloading opentelemetry_semantic_conventions-0.45b0-py3-none-any.whl (36 kB)\n",
      "Downloading opentelemetry_util_http-0.45b0-py3-none-any.whl (6.9 kB)\n",
      "Downloading opentelemetry_sdk-1.24.0-py3-none-any.whl (106 kB)\n",
      "\u001b[2K   \u001b[90m━━━━━━━━━━━━━━━━━━━━━━━━━━━━━━━━━━━━━━━━\u001b[0m \u001b[32m106.1/106.1 kB\u001b[0m \u001b[31m10.9 MB/s\u001b[0m eta \u001b[36m0:00:00\u001b[0m\n",
      "\u001b[?25hUsing cached overrides-7.7.0-py3-none-any.whl (17 kB)\n",
      "Using cached posthog-3.5.0-py2.py3-none-any.whl (41 kB)\n",
      "Downloading pulsar_client-3.5.0-cp39-cp39-macosx_10_15_universal2.whl (11.0 MB)\n",
      "\u001b[2K   \u001b[90m━━━━━━━━━━━━━━━━━━━━━━━━━━━━━━━━━━━━━━━━\u001b[0m \u001b[32m11.0/11.0 MB\u001b[0m \u001b[31m27.3 MB/s\u001b[0m eta \u001b[36m0:00:00\u001b[0m00:01\u001b[0m00:01\u001b[0m\n",
      "\u001b[?25hDownloading typer-0.12.3-py3-none-any.whl (47 kB)\n",
      "\u001b[2K   \u001b[90m━━━━━━━━━━━━━━━━━━━━━━━━━━━━━━━━━━━━━━━━\u001b[0m \u001b[32m47.2/47.2 kB\u001b[0m \u001b[31m3.0 MB/s\u001b[0m eta \u001b[36m0:00:00\u001b[0m\n",
      "\u001b[?25hDownloading uvicorn-0.29.0-py3-none-any.whl (60 kB)\n",
      "\u001b[2K   \u001b[90m━━━━━━━━━━━━━━━━━━━━━━━━━━━━━━━━━━━━━━━━\u001b[0m \u001b[32m60.8/60.8 kB\u001b[0m \u001b[31m4.4 MB/s\u001b[0m eta \u001b[36m0:00:00\u001b[0m\n",
      "\u001b[?25hDownloading google_auth-2.29.0-py2.py3-none-any.whl (189 kB)\n",
      "\u001b[2K   \u001b[90m━━━━━━━━━━━━━━━━━━━━━━━━━━━━━━━━━━━━━━━━\u001b[0m \u001b[32m189.2/189.2 kB\u001b[0m \u001b[31m4.5 MB/s\u001b[0m eta \u001b[36m0:00:00\u001b[0mta \u001b[36m0:00:01\u001b[0m\n",
      "\u001b[?25hDownloading googleapis_common_protos-1.63.0-py2.py3-none-any.whl (229 kB)\n",
      "\u001b[2K   \u001b[90m━━━━━━━━━━━━━━━━━━━━━━━━━━━━━━━━━━━━━━━━\u001b[0m \u001b[32m229.1/229.1 kB\u001b[0m \u001b[31m12.9 MB/s\u001b[0m eta \u001b[36m0:00:00\u001b[0m\n",
      "\u001b[?25hUsing cached httptools-0.6.1-cp39-cp39-macosx_10_9_universal2.whl (152 kB)\n",
      "Downloading importlib_metadata-7.0.0-py3-none-any.whl (23 kB)\n",
      "Using cached monotonic-1.6-py2.py3-none-any.whl (8.2 kB)\n",
      "Using cached oauthlib-3.2.2-py3-none-any.whl (151 kB)\n",
      "Using cached python_dotenv-1.0.1-py3-none-any.whl (19 kB)\n",
      "Downloading shellingham-1.5.4-py2.py3-none-any.whl (9.8 kB)\n",
      "Downloading starlette-0.37.2-py3-none-any.whl (71 kB)\n",
      "\u001b[2K   \u001b[90m━━━━━━━━━━━━━━━━━━━━━━━━━━━━━━━━━━━━━━━━\u001b[0m \u001b[32m71.9/71.9 kB\u001b[0m \u001b[31m8.0 MB/s\u001b[0m eta \u001b[36m0:00:00\u001b[0m\n",
      "\u001b[?25hUsing cached tomli-2.0.1-py3-none-any.whl (12 kB)\n",
      "Using cached uvloop-0.19.0-cp39-cp39-macosx_10_9_universal2.whl (1.5 MB)\n",
      "Using cached watchfiles-0.21.0-cp39-cp39-macosx_11_0_arm64.whl (418 kB)\n",
      "Using cached websocket_client-1.7.0-py3-none-any.whl (58 kB)\n",
      "Using cached websockets-12.0-cp39-cp39-macosx_11_0_arm64.whl (121 kB)\n",
      "Downloading pyproject_hooks-1.0.0-py3-none-any.whl (9.3 kB)\n",
      "Downloading requests_oauthlib-2.0.0-py2.py3-none-any.whl (24 kB)\n",
      "Downloading asgiref-3.8.1-py3-none-any.whl (23 kB)\n",
      "Downloading pyasn1_modules-0.4.0-py3-none-any.whl (181 kB)\n",
      "\u001b[2K   \u001b[90m━━━━━━━━━━━━━━━━━━━━━━━━━━━━━━━━━━━━━━━━\u001b[0m \u001b[32m181.2/181.2 kB\u001b[0m \u001b[31m6.9 MB/s\u001b[0m eta \u001b[36m0:00:00\u001b[0m\n",
      "\u001b[?25hUsing cached rsa-4.9-py3-none-any.whl (34 kB)\n",
      "Downloading pyasn1-0.6.0-py2.py3-none-any.whl (85 kB)\n",
      "\u001b[2K   \u001b[90m━━━━━━━━━━━━━━━━━━━━━━━━━━━━━━━━━━━━━━━━\u001b[0m \u001b[32m85.3/85.3 kB\u001b[0m \u001b[31m5.7 MB/s\u001b[0m eta \u001b[36m0:00:00\u001b[0m\n",
      "\u001b[?25hBuilding wheels for collected packages: pypika\n",
      "  Building wheel for pypika (pyproject.toml) ... \u001b[?25ldone\n",
      "\u001b[?25h  Created wheel for pypika: filename=PyPika-0.48.9-py2.py3-none-any.whl size=53724 sha256=439a880d0f4b5cc83efda0454f579e68f5649b4ad7f2c65804eea5c560c27b89\n",
      "  Stored in directory: /Users/rasikagulhane/Library/Caches/pip/wheels/f7/02/64/d541eac67ec459309d1fb19e727f58ecf7ffb4a8bf42d4cfe5\n",
      "Successfully built pypika\n",
      "Installing collected packages: pypika, monotonic, mmh3, websockets, websocket-client, uvloop, uvicorn, tomli, shellingham, python-dotenv, pyasn1, pulsar-client, overrides, opentelemetry-util-http, opentelemetry-semantic-conventions, opentelemetry-proto, oauthlib, importlib-metadata, httptools, grpcio, googleapis-common-protos, chroma-hnswlib, bcrypt, asgiref, watchfiles, starlette, rsa, requests-oauthlib, pyproject_hooks, pyasn1-modules, posthog, opentelemetry-exporter-otlp-proto-common, opentelemetry-api, typer, opentelemetry-sdk, opentelemetry-instrumentation, google-auth, fastapi, build, opentelemetry-instrumentation-asgi, opentelemetry-exporter-otlp-proto-grpc, kubernetes, opentelemetry-instrumentation-fastapi, chromadb\n",
      "Successfully installed asgiref-3.8.1 bcrypt-4.1.2 build-1.2.1 chroma-hnswlib-0.7.3 chromadb-0.4.24 fastapi-0.110.1 google-auth-2.29.0 googleapis-common-protos-1.63.0 grpcio-1.62.2 httptools-0.6.1 importlib-metadata-7.0.0 kubernetes-29.0.0 mmh3-4.1.0 monotonic-1.6 oauthlib-3.2.2 opentelemetry-api-1.24.0 opentelemetry-exporter-otlp-proto-common-1.24.0 opentelemetry-exporter-otlp-proto-grpc-1.24.0 opentelemetry-instrumentation-0.45b0 opentelemetry-instrumentation-asgi-0.45b0 opentelemetry-instrumentation-fastapi-0.45b0 opentelemetry-proto-1.24.0 opentelemetry-sdk-1.24.0 opentelemetry-semantic-conventions-0.45b0 opentelemetry-util-http-0.45b0 overrides-7.7.0 posthog-3.5.0 pulsar-client-3.5.0 pyasn1-0.6.0 pyasn1-modules-0.4.0 pypika-0.48.9 pyproject_hooks-1.0.0 python-dotenv-1.0.1 requests-oauthlib-2.0.0 rsa-4.9 shellingham-1.5.4 starlette-0.37.2 tomli-2.0.1 typer-0.12.3 uvicorn-0.29.0 uvloop-0.19.0 watchfiles-0.21.0 websocket-client-1.7.0 websockets-12.0\n"
     ]
    }
   ],
   "source": [
    "!pip install chromadb"
   ]
  },
  {
   "cell_type": "code",
   "execution_count": 23,
   "metadata": {},
   "outputs": [],
   "source": [
    "from langchain.indexes import VectorstoreIndexCreator\n",
    "index = VectorstoreIndexCreator().from_loaders([loader])"
   ]
  },
  {
   "cell_type": "code",
   "execution_count": 24,
   "metadata": {},
   "outputs": [
    {
     "data": {
      "text/plain": [
       "' Attention is all you need is a paper published by Google researchers that proposes a new model architecture called the Transformer. This model relies entirely on an attention mechanism to draw global dependencies between input and output, instead of using recurrent networks. This allows for more parallelization and has shown to achieve state-of-the-art results in translation quality. The paper also discusses the advantages of self-attention and how it could lead to more interpretable models. The paper provides a detailed description of the training regime for their models and includes examples of attention distributions and their relation to the syntactic and semantic structure of sentences. '"
      ]
     },
     "execution_count": 24,
     "metadata": {},
     "output_type": "execute_result"
    }
   ],
   "source": [
    "query = \"Explain me about Attention is all you need\"\n",
    "index.query(query)"
   ]
  },
  {
   "cell_type": "code",
   "execution_count": null,
   "metadata": {},
   "outputs": [],
   "source": []
  }
 ],
 "metadata": {
  "kernelspec": {
   "display_name": "Python 3",
   "language": "python",
   "name": "python3"
  },
  "language_info": {
   "codemirror_mode": {
    "name": "ipython",
    "version": 3
   },
   "file_extension": ".py",
   "mimetype": "text/x-python",
   "name": "python",
   "nbconvert_exporter": "python",
   "pygments_lexer": "ipython3",
   "version": "3.9.19"
  }
 },
 "nbformat": 4,
 "nbformat_minor": 2
}
